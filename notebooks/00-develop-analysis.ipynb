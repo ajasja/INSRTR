{
 "cells": [
  {
   "cell_type": "code",
   "execution_count": 2,
   "metadata": {},
   "outputs": [
    {
     "name": "stdout",
     "output_type": "stream",
     "text": [
      "The autoreload extension is already loaded. To reload it, use:\n",
      "  %reload_ext autoreload\n",
      "d:\\owncloud\\Projekti_KI\\SIDE\\2022-06-10__CCRegulation\\INSRTR\\notebooks\n",
      "ajaomen\n"
     ]
    }
   ],
   "source": [
    "%load_ext autoreload\n",
    "%autoreload 2\n",
    "import os; print(os.getcwd())\n",
    "import socket; print(socket.gethostname())"
   ]
  },
  {
   "cell_type": "code",
   "execution_count": 3,
   "metadata": {},
   "outputs": [],
   "source": [
    "import insrtr "
   ]
  },
  {
   "cell_type": "code",
   "execution_count": 44,
   "metadata": {},
   "outputs": [],
   "source": [
    "import mdtraj as md\n",
    "traj = md.load('../data/TEVp.pdb')\n",
    "t = traj.topology\n"
   ]
  },
  {
   "cell_type": "code",
   "execution_count": 41,
   "metadata": {},
   "outputs": [
    {
     "data": {
      "text/plain": [
       "array([ 0,  1,  2,  3,  4,  5,  6,  7,  8,  9, 10, 11, 12, 13, 14, 15, 16,\n",
       "       17, 18, 19, 20, 21, 22, 23, 24, 25])"
      ]
     },
     "execution_count": 41,
     "metadata": {},
     "output_type": "execute_result"
    }
   ],
   "source": [
    "t.select('resid 0 to 2')"
   ]
  },
  {
   "cell_type": "code",
   "execution_count": 48,
   "metadata": {},
   "outputs": [
    {
     "data": {
      "text/plain": [
       "[[9, 10],\n",
       " [19, 20],\n",
       " [31, 32],\n",
       " [42, 43, 44, 45],\n",
       " [53, 54],\n",
       " [60, 61],\n",
       " [70, 71, 72, 73, 74, 75],\n",
       " [80, 81, 82, 83, 84, 85, 86, 87, 88, 89, 90, 91, 92],\n",
       " [94, 95, 96, 97, 98, 99, 100, 101],\n",
       " [110, 111, 112, 113],\n",
       " [119, 120, 121],\n",
       " [123, 124],\n",
       " [128, 129, 130, 131],\n",
       " [136, 137, 138, 139, 140, 141, 142, 143, 144, 145, 146],\n",
       " [151, 152, 153, 154, 155],\n",
       " [165, 166, 167, 168, 169],\n",
       " [175, 176, 177, 178],\n",
       " [189, 190, 191],\n",
       " [193, 194, 195, 196, 197, 198, 199, 200],\n",
       " [205, 206],\n",
       " [211, 212, 213, 214, 215, 216, 217],\n",
       " [221, 222]]"
      ]
     },
     "execution_count": 48,
     "metadata": {},
     "output_type": "execute_result"
    }
   ],
   "source": [
    "dssp = md.compute_dssp(traj, simplified=True)[0]\n",
    "loops = insrtr.get_loops_from_annotation(dssp, loop_char='C', skip_ends=True)\n",
    "\n",
    "loops"
   ]
  },
  {
   "cell_type": "code",
   "execution_count": 54,
   "metadata": {},
   "outputs": [
    {
     "data": {
      "text/plain": [
       "[[3, 4, 5], [9, 10, 11, 12], [17, 18, 19, 20]]"
      ]
     },
     "execution_count": 54,
     "metadata": {},
     "output_type": "execute_result"
    }
   ],
   "source": [
    "def loops_to_0_based(loops):\n",
    "    import copy\n",
    "    # must make copy so results are nt modified in place\n",
    "    res = copy.deepcopy(loops)\n",
    "\n",
    "    for x in range(len(res)):\n",
    "        for i in range(len(res[x])):\n",
    "            res[x][i] = res[x][i]-1\n",
    "            assert res[x][i]>0, \"0 based indexing can not be less than 0\"\n",
    "    return res\n",
    "loops_to_0_based([[4, 5, 6], [10, 11, 12, 13], [18, 19, 20, 21]])"
   ]
  }
 ],
 "metadata": {
  "kernelspec": {
   "display_name": "Python 3.8.13 ('cocopod')",
   "language": "python",
   "name": "python3"
  },
  "language_info": {
   "codemirror_mode": {
    "name": "ipython",
    "version": 3
   },
   "file_extension": ".py",
   "mimetype": "text/x-python",
   "name": "python",
   "nbconvert_exporter": "python",
   "pygments_lexer": "ipython3",
   "version": "3.8.13"
  },
  "orig_nbformat": 4,
  "vscode": {
   "interpreter": {
    "hash": "67c0856e3a42f0ac5e208b6805f6abd324630b8af5329f70a0f23326d1f9d68d"
   }
  }
 },
 "nbformat": 4,
 "nbformat_minor": 2
}
