{
 "cells": [
  {
   "cell_type": "code",
   "execution_count": 1,
   "metadata": {},
   "outputs": [
    {
     "name": "stdout",
     "output_type": "stream",
     "text": [
      "d:\\owncloud\\Projekti_KI\\SIDE\\2022-06-10__CCRegulation\\INSRTR\\notebooks\n",
      "ajaomen\n"
     ]
    }
   ],
   "source": [
    "%load_ext autoreload\n",
    "%autoreload 2\n",
    "import os; print(os.getcwd())\n",
    "import socket; print(socket.gethostname())\n",
    "\n",
    "import insrtr\n",
    "import mdtraj as md "
   ]
  },
  {
   "cell_type": "code",
   "execution_count": 6,
   "metadata": {},
   "outputs": [
    {
     "data": {
      "text/plain": [
       "[{'loop_index0': 0,\n",
       "  'loop_length_AA': 2,\n",
       "  'loop_start_end_distance_A': 3.814781606197357,\n",
       "  'loop_sasa_A': 52.88828854262829,\n",
       "  'loop_sasa_A_per_res': 26.444144271314144,\n",
       "  'loop_isolation_SASA_A': 352.3564350605011,\n",
       "  'loop_burial_percent': 15.009882970789832},\n",
       " {'loop_index0': 1,\n",
       "  'loop_length_AA': 2,\n",
       "  'loop_start_end_distance_A': 3.793153464794159,\n",
       "  'loop_sasa_A': 172.63253819942474,\n",
       "  'loop_sasa_A_per_res': 86.31626909971237,\n",
       "  'loop_isolation_SASA_A': 341.452410697937,\n",
       "  'loop_burial_percent': 50.55830118362897},\n",
       " {'loop_index0': 2,\n",
       "  'loop_length_AA': 2,\n",
       "  'loop_start_end_distance_A': 3.833855092525482,\n",
       "  'loop_sasa_A': 45.760869190096855,\n",
       "  'loop_sasa_A_per_res': 22.880434595048428,\n",
       "  'loop_isolation_SASA_A': 310.0288988649845,\n",
       "  'loop_burial_percent': 14.760194729467916},\n",
       " {'loop_index0': 3,\n",
       "  'loop_length_AA': 4,\n",
       "  'loop_start_end_distance_A': 10.017982721328735,\n",
       "  'loop_sasa_A': 162.59690356254578,\n",
       "  'loop_sasa_A_per_res': 40.649225890636444,\n",
       "  'loop_isolation_SASA_A': 788.846443593502,\n",
       "  'loop_burial_percent': 20.611984104517695},\n",
       " {'loop_index0': 4,\n",
       "  'loop_length_AA': 2,\n",
       "  'loop_start_end_distance_A': 3.8265907764434814,\n",
       "  'loop_sasa_A': 198.05576403439045,\n",
       "  'loop_sasa_A_per_res': 99.02788201719522,\n",
       "  'loop_isolation_SASA_A': 456.9478750228882,\n",
       "  'loop_burial_percent': 43.34318526472411},\n",
       " {'loop_index0': 5,\n",
       "  'loop_length_AA': 2,\n",
       "  'loop_start_end_distance_A': 3.8119393587112427,\n",
       "  'loop_sasa_A': 247.92862212657928,\n",
       "  'loop_sasa_A_per_res': 123.96431106328964,\n",
       "  'loop_isolation_SASA_A': 461.6211485862732,\n",
       "  'loop_burial_percent': 53.7082460120961},\n",
       " {'loop_index0': 6,\n",
       "  'loop_length_AA': 6,\n",
       "  'loop_start_end_distance_A': 5.748441815376282,\n",
       "  'loop_sasa_A': 229.21395099163055,\n",
       "  'loop_sasa_A_per_res': 38.20232516527176,\n",
       "  'loop_isolation_SASA_A': 862.8062519580126,\n",
       "  'loop_burial_percent': 26.56609759971755},\n",
       " {'loop_index0': 7,\n",
       "  'loop_length_AA': 13,\n",
       "  'loop_start_end_distance_A': 19.88989233970642,\n",
       "  'loop_sasa_A': 1009.508352547884,\n",
       "  'loop_sasa_A_per_res': 77.65448865752954,\n",
       "  'loop_isolation_SASA_A': 1865.9283859729767,\n",
       "  'loop_burial_percent': 54.10220242838967},\n",
       " {'loop_index0': 8,\n",
       "  'loop_length_AA': 8,\n",
       "  'loop_start_end_distance_A': 13.6727774143219,\n",
       "  'loop_sasa_A': 700.9529526233673,\n",
       "  'loop_sasa_A_per_res': 87.61911907792091,\n",
       "  'loop_isolation_SASA_A': 1273.2439821138978,\n",
       "  'loop_burial_percent': 55.05252429778723},\n",
       " {'loop_index0': 9,\n",
       "  'loop_length_AA': 4,\n",
       "  'loop_start_end_distance_A': 5.105123519897461,\n",
       "  'loop_sasa_A': 503.690239071846,\n",
       "  'loop_sasa_A_per_res': 125.9225597679615,\n",
       "  'loop_isolation_SASA_A': 629.6409435272217,\n",
       "  'loop_burial_percent': 79.99642403338557},\n",
       " {'loop_index0': 10,\n",
       "  'loop_length_AA': 3,\n",
       "  'loop_start_end_distance_A': 6.47228479385376,\n",
       "  'loop_sasa_A': 245.14087709784508,\n",
       "  'loop_sasa_A_per_res': 81.71362569928169,\n",
       "  'loop_isolation_SASA_A': 493.7759484946728,\n",
       "  'loop_burial_percent': 49.646176134172286},\n",
       " {'loop_index0': 11,\n",
       "  'loop_length_AA': 2,\n",
       "  'loop_start_end_distance_A': 3.954043388366699,\n",
       "  'loop_sasa_A': 82.64835460484028,\n",
       "  'loop_sasa_A_per_res': 41.32417730242014,\n",
       "  'loop_isolation_SASA_A': 372.8167277574539,\n",
       "  'loop_burial_percent': 22.168628296799337},\n",
       " {'loop_index0': 12,\n",
       "  'loop_length_AA': 4,\n",
       "  'loop_start_end_distance_A': 7.635194659233093,\n",
       "  'loop_sasa_A': 230.72287952899933,\n",
       "  'loop_sasa_A_per_res': 57.68071988224983,\n",
       "  'loop_isolation_SASA_A': 559.2179493904114,\n",
       "  'loop_burial_percent': 41.258131964559475},\n",
       " {'loop_index0': 13,\n",
       "  'loop_length_AA': 11,\n",
       "  'loop_start_end_distance_A': 14.035388231277466,\n",
       "  'loop_sasa_A': 591.3674020394683,\n",
       "  'loop_sasa_A_per_res': 53.760672912678935,\n",
       "  'loop_isolation_SASA_A': 1537.1001678407192,\n",
       "  'loop_burial_percent': 38.47292547434997},\n",
       " {'loop_index0': 14,\n",
       "  'loop_length_AA': 5,\n",
       "  'loop_start_end_distance_A': 7.9462116956710815,\n",
       "  'loop_sasa_A': 314.15709659457207,\n",
       "  'loop_sasa_A_per_res': 62.83141931891441,\n",
       "  'loop_isolation_SASA_A': 756.5752953663468,\n",
       "  'loop_burial_percent': 41.523573201323174},\n",
       " {'loop_index0': 15,\n",
       "  'loop_length_AA': 5,\n",
       "  'loop_start_end_distance_A': 8.622170090675354,\n",
       "  'loop_sasa_A': 352.60316479206085,\n",
       "  'loop_sasa_A_per_res': 70.52063295841216,\n",
       "  'loop_isolation_SASA_A': 795.3852508068085,\n",
       "  'loop_burial_percent': 44.331116831044284},\n",
       " {'loop_index0': 16,\n",
       "  'loop_length_AA': 4,\n",
       "  'loop_start_end_distance_A': 8.81112277507782,\n",
       "  'loop_sasa_A': 270.0395682901144,\n",
       "  'loop_sasa_A_per_res': 67.5098920725286,\n",
       "  'loop_isolation_SASA_A': 652.2610337138176,\n",
       "  'loop_burial_percent': 41.40053664597653},\n",
       " {'loop_index0': 17,\n",
       "  'loop_length_AA': 3,\n",
       "  'loop_start_end_distance_A': 6.021731495857239,\n",
       "  'loop_sasa_A': 213.7308498620987,\n",
       "  'loop_sasa_A_per_res': 71.24361662069957,\n",
       "  'loop_isolation_SASA_A': 635.474658459425,\n",
       "  'loop_burial_percent': 33.63326090457239},\n",
       " {'loop_index0': 18,\n",
       "  'loop_length_AA': 8,\n",
       "  'loop_start_end_distance_A': 20.318095684051514,\n",
       "  'loop_sasa_A': 589.2050456404686,\n",
       "  'loop_sasa_A_per_res': 73.65063070505857,\n",
       "  'loop_isolation_SASA_A': 1177.7408501505852,\n",
       "  'loop_burial_percent': 50.02841207088412},\n",
       " {'loop_index0': 19,\n",
       "  'loop_length_AA': 2,\n",
       "  'loop_start_end_distance_A': 3.791722357273102,\n",
       "  'loop_sasa_A': 50.73136553168297,\n",
       "  'loop_sasa_A_per_res': 25.365682765841484,\n",
       "  'loop_isolation_SASA_A': 269.03960704803467,\n",
       "  'loop_burial_percent': 18.856467301717895},\n",
       " {'loop_index0': 20,\n",
       "  'loop_length_AA': 7,\n",
       "  'loop_start_end_distance_A': 11.274526119232178,\n",
       "  'loop_sasa_A': 536.2707978188992,\n",
       "  'loop_sasa_A_per_res': 76.61011397412845,\n",
       "  'loop_isolation_SASA_A': 1227.162316918373,\n",
       "  'loop_burial_percent': 43.700070514353165},\n",
       " {'loop_index0': 21,\n",
       "  'loop_length_AA': 2,\n",
       "  'loop_start_end_distance_A': 3.7841108441352844,\n",
       "  'loop_sasa_A': 21.79663661122322,\n",
       "  'loop_sasa_A_per_res': 10.89831830561161,\n",
       "  'loop_isolation_SASA_A': 405.3521237373352,\n",
       "  'loop_burial_percent': 5.3772104140614445}]"
      ]
     },
     "execution_count": 6,
     "metadata": {},
     "output_type": "execute_result"
    }
   ],
   "source": [
    "analyzer = insrtr.LoopAnalyzer('../data/TEVp.pdb')\n",
    "analyzer.analyze_structure()\n",
    "analyzer._loop_features\n"
   ]
  },
  {
   "cell_type": "code",
   "execution_count": 15,
   "metadata": {},
   "outputs": [],
   "source": [
    "r=top.residue(0)\n"
   ]
  },
  {
   "cell_type": "code",
   "execution_count": 26,
   "metadata": {},
   "outputs": [
    {
     "name": "stdout",
     "output_type": "stream",
     "text": [
      "67+68+69+70+71+72+73+74+75+76+77+78+79\n"
     ]
    }
   ],
   "source": [
    "dssp = md.compute_dssp(traj, simplified=True)[0]\n",
    "loops = insrtr.get_loops_from_annotation(dssp, loop_char='C', skip_ends=True)\n",
    "\n",
    "loops = insrtr.loops_to_0_based(loops)\n",
    "ids = top.select(f\"resid {loops[0][0]} to {loops[0][-1]}\")\n",
    "print(\"+\".join(str(aid) for aid in ids))\n",
    "sasa = md.shrake_rupley(traj)\n",
    "loop_sasa\n"
   ]
  },
  {
   "cell_type": "code",
   "execution_count": 22,
   "metadata": {},
   "outputs": [
    {
     "data": {
      "text/plain": [
       "52.88828911725432"
      ]
     },
     "execution_count": 22,
     "metadata": {},
     "output_type": "execute_result"
    }
   ],
   "source": [
    "\n"
   ]
  },
  {
   "cell_type": "code",
   "execution_count": 9,
   "metadata": {},
   "outputs": [
    {
     "data": {
      "text/plain": [
       "array([[0.23238757, 0.13711613, 0.0327066 , ..., 0.24554269, 0.12579462,\n",
       "        0.07812722]], dtype=float32)"
      ]
     },
     "execution_count": 9,
     "metadata": {},
     "output_type": "execute_result"
    }
   ],
   "source": [
    "topology.select('')"
   ]
  },
  {
   "cell_type": "code",
   "execution_count": 8,
   "metadata": {},
   "outputs": [],
   "source": []
  }
 ],
 "metadata": {
  "kernelspec": {
   "display_name": "Python 3.8.13 ('cocopod')",
   "language": "python",
   "name": "python3"
  },
  "language_info": {
   "codemirror_mode": {
    "name": "ipython",
    "version": 3
   },
   "file_extension": ".py",
   "mimetype": "text/x-python",
   "name": "python",
   "nbconvert_exporter": "python",
   "pygments_lexer": "ipython3",
   "version": "3.8.13"
  },
  "orig_nbformat": 4,
  "vscode": {
   "interpreter": {
    "hash": "67c0856e3a42f0ac5e208b6805f6abd324630b8af5329f70a0f23326d1f9d68d"
   }
  }
 },
 "nbformat": 4,
 "nbformat_minor": 2
}
