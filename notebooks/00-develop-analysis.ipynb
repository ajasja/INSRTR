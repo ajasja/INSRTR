{
 "cells": [
  {
   "cell_type": "code",
   "execution_count": 7,
   "metadata": {},
   "outputs": [
    {
     "name": "stdout",
     "output_type": "stream",
     "text": [
      "The autoreload extension is already loaded. To reload it, use:\n",
      "  %reload_ext autoreload\n",
      "d:\\owncloud\\Projekti_KI\\SIDE\\2022-06-10__CCRegulation\\INSRTR\\notebooks\n",
      "ajaomen\n"
     ]
    }
   ],
   "source": [
    "%load_ext autoreload\n",
    "%autoreload 2\n",
    "import os; print(os.getcwd())\n",
    "import socket; print(socket.gethostname())\n",
    "\n",
    "import insrtr\n",
    "import mdtraj as md "
   ]
  },
  {
   "cell_type": "code",
   "execution_count": 12,
   "metadata": {},
   "outputs": [
    {
     "name": "stdout",
     "output_type": "stream",
     "text": [
      "Hi 0\n",
      "Hi 1\n",
      "Hi 2\n",
      "Hi 3\n",
      "Hi 4\n",
      "Hi 5\n",
      "Hi 6\n",
      "Hi 7\n",
      "Hi 8\n",
      "Hi 9\n",
      "Hi 10\n",
      "Hi 11\n",
      "Hi 12\n",
      "Hi 13\n",
      "Hi 14\n",
      "Hi 15\n",
      "Hi 16\n",
      "Hi 17\n",
      "Hi 18\n",
      "Hi 19\n",
      "Hi 20\n",
      "Hi 21\n"
     ]
    }
   ],
   "source": [
    "analyzer = insrtr.LoopAnalyzer('../data/TEVp.pdb')\n",
    "analyzer.analyze_structure()\n",
    "\n"
   ]
  },
  {
   "cell_type": "code",
   "execution_count": 11,
   "metadata": {},
   "outputs": [
    {
     "name": "stdout",
     "output_type": "stream",
     "text": [
      "Hi\n",
      "Hi\n",
      "Hi\n",
      "Hi\n",
      "Hi\n",
      "Hi\n",
      "Hi\n",
      "Hi\n",
      "Hi\n",
      "Hi\n",
      "Hi\n",
      "Hi\n",
      "Hi\n",
      "Hi\n",
      "Hi\n",
      "Hi\n",
      "Hi\n",
      "Hi\n",
      "Hi\n",
      "Hi\n",
      "Hi\n",
      "Hi\n"
     ]
    },
    {
     "ename": "AttributeError",
     "evalue": "'LoopAnalyzer' object has no attribute 'get_residue_features'",
     "output_type": "error",
     "traceback": [
      "\u001b[1;31m---------------------------------------------------------------------------\u001b[0m",
      "\u001b[1;31mAttributeError\u001b[0m                            Traceback (most recent call last)",
      "\u001b[1;32md:\\owncloud\\Projekti_KI\\SIDE\\2022-06-10__CCRegulation\\INSRTR\\notebooks\\00-develop-analysis.ipynb Cell 3\u001b[0m in \u001b[0;36m<cell line: 1>\u001b[1;34m()\u001b[0m\n\u001b[1;32m----> <a href='vscode-notebook-cell:/d%3A/owncloud/Projekti_KI/SIDE/2022-06-10__CCRegulation/INSRTR/notebooks/00-develop-analysis.ipynb#W2sZmlsZQ%3D%3D?line=0'>1</a>\u001b[0m analyzer\u001b[39m.\u001b[39;49manalyze_structure()\n",
      "File \u001b[1;32md:\\owncloud\\projekti_ki\\side\\2022-06-10__ccregulation\\insrtr\\insrtr\\analysis.py:97\u001b[0m, in \u001b[0;36mLoopAnalyzer.analyze_structure\u001b[1;34m(self)\u001b[0m\n\u001b[0;32m     93\u001b[0m \u001b[39m\"\"\"Analyze the structure\"\"\"\u001b[39;00m\n\u001b[0;32m     95\u001b[0m \u001b[39mself\u001b[39m\u001b[39m.\u001b[39mget_loop_features()\n\u001b[1;32m---> 97\u001b[0m \u001b[39mself\u001b[39;49m\u001b[39m.\u001b[39;49mget_residue_features()\n",
      "\u001b[1;31mAttributeError\u001b[0m: 'LoopAnalyzer' object has no attribute 'get_residue_features'"
     ]
    }
   ],
   "source": []
  },
  {
   "cell_type": "code",
   "execution_count": 15,
   "metadata": {},
   "outputs": [],
   "source": [
    "r=top.residue(0)\n"
   ]
  },
  {
   "cell_type": "code",
   "execution_count": 26,
   "metadata": {},
   "outputs": [
    {
     "name": "stdout",
     "output_type": "stream",
     "text": [
      "67+68+69+70+71+72+73+74+75+76+77+78+79\n"
     ]
    }
   ],
   "source": [
    "dssp = md.compute_dssp(traj, simplified=True)[0]\n",
    "loops = insrtr.get_loops_from_annotation(dssp, loop_char='C', skip_ends=True)\n",
    "\n",
    "loops = insrtr.loops_to_0_based(loops)\n",
    "ids = top.select(f\"resid {loops[0][0]} to {loops[0][-1]}\")\n",
    "print(\"+\".join(str(aid) for aid in ids))\n",
    "sasa = md.shrake_rupley(traj)\n",
    "loop_sasa\n"
   ]
  },
  {
   "cell_type": "code",
   "execution_count": 22,
   "metadata": {},
   "outputs": [
    {
     "data": {
      "text/plain": [
       "52.88828911725432"
      ]
     },
     "execution_count": 22,
     "metadata": {},
     "output_type": "execute_result"
    }
   ],
   "source": [
    "\n"
   ]
  },
  {
   "cell_type": "code",
   "execution_count": 9,
   "metadata": {},
   "outputs": [
    {
     "data": {
      "text/plain": [
       "array([[0.23238757, 0.13711613, 0.0327066 , ..., 0.24554269, 0.12579462,\n",
       "        0.07812722]], dtype=float32)"
      ]
     },
     "execution_count": 9,
     "metadata": {},
     "output_type": "execute_result"
    }
   ],
   "source": [
    "topology.select('')"
   ]
  },
  {
   "cell_type": "code",
   "execution_count": 8,
   "metadata": {},
   "outputs": [],
   "source": []
  }
 ],
 "metadata": {
  "kernelspec": {
   "display_name": "Python 3.8.13 ('cocopod')",
   "language": "python",
   "name": "python3"
  },
  "language_info": {
   "codemirror_mode": {
    "name": "ipython",
    "version": 3
   },
   "file_extension": ".py",
   "mimetype": "text/x-python",
   "name": "python",
   "nbconvert_exporter": "python",
   "pygments_lexer": "ipython3",
   "version": "3.8.13"
  },
  "orig_nbformat": 4,
  "vscode": {
   "interpreter": {
    "hash": "67c0856e3a42f0ac5e208b6805f6abd324630b8af5329f70a0f23326d1f9d68d"
   }
  }
 },
 "nbformat": 4,
 "nbformat_minor": 2
}
