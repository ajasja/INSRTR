{
 "cells": [
  {
   "cell_type": "code",
   "execution_count": 1,
   "metadata": {},
   "outputs": [
    {
     "name": "stdout",
     "output_type": "stream",
     "text": [
      "/Users/tadejsatler/Repositories/INSRTR/INSRTR/INSRTR-1/notebooks\n",
      "Tadejs-MacBook-Air.local\n"
     ]
    }
   ],
   "source": [
    "%load_ext autoreload\n",
    "%autoreload 2\n",
    "import os; print(os.getcwd())\n",
    "import socket; print(socket.gethostname())\n",
    "\n",
    "import sys\n",
    "sys.path.append(\"../\")\n",
    "\n",
    "import insrtr\n",
    "import mdtraj as md "
   ]
  },
  {
   "cell_type": "code",
   "execution_count": null,
   "metadata": {},
   "outputs": [],
   "source": [
    "#Active_sites:\n",
    "\"\"\"Bgal (pdb6X1Q) – Glu460, Glu536 (in seq).\n",
    "LCK (AF2) – Asp364 .... pdb1QPC – 231-509(end), but not whole sequence.. Asp364 in pdb!.\n",
    "MyD88 - /\n",
    "IRAK(AF2) – Asp340 ....pdb6BFN - 194-530(end), not whole sequence... 340 in pdb!.\n",
    "TEVp - His46, Asp81 and Cys151.\n",
    "Cas9 - /.\n",
    "TALE - /.\n",
    "scFV - /.\n",
    "ngGFP - /.\n",
    "fLUC (1BA3) – Lys204, Glu344, Asp422.\"\"\""
   ]
  },
  {
   "cell_type": "markdown",
   "metadata": {},
   "source": [
    "## AF2 wt structures"
   ]
  },
  {
   "cell_type": "code",
   "execution_count": 2,
   "metadata": {},
   "outputs": [],
   "source": [
    "#Bgal\n",
    "name=\"Bgal\"\n",
    "active_site=[454, 530]\n",
    "Bgal_pdb = (\"../data/pdbs/wt/af2_wt_structures/_Bgal_wt_unrelaxed_rank_1_model_5.pdb\")\n",
    "analyzer = insrtr.LoopAnalyzer(struct_file_path=Bgal_pdb, struct_name=f\"{name}\", active_res_index1=active_site)\n",
    "features = analyzer.analyze_structure()\n",
    "features.to_excel(f\"../data/output/wt/af2/{name}.xlsx\")"
   ]
  },
  {
   "cell_type": "code",
   "execution_count": 3,
   "metadata": {},
   "outputs": [],
   "source": [
    "#LCK\n",
    "name=\"Lck\"\n",
    "active_site=[364]\n",
    "pdb = (\"../data/pdbs/wt/af2_wt_structures/_LCK_wt_unrelaxed_rank_1_model_4.pdb\")\n",
    "analyzer = insrtr.LoopAnalyzer(struct_file_path=pdb, struct_name=f\"{name}\", active_res_index1=active_site)\n",
    "features = analyzer.analyze_structure()\n",
    "features.to_excel(f\"../data/output/wt/af2/{name}.xlsx\")\n",
    "#not happy with active site residues"
   ]
  },
  {
   "cell_type": "code",
   "execution_count": 4,
   "metadata": {},
   "outputs": [],
   "source": [
    "#IRAK\n",
    "name=\"mIRAK1\"\n",
    "active_site=[340]\n",
    "pdb = (\"../data/pdbs/wt/af2_wt_structures/_mIRAK_wt_unrelaxed_rank_1_model_3.pdb\")\n",
    "analyzer = insrtr.LoopAnalyzer(struct_file_path=pdb, struct_name=f\"{name}\", active_res_index1=active_site)\n",
    "features = analyzer.analyze_structure()\n",
    "features.to_excel(f\"../data/output/wt/af2/{name}.xlsx\")"
   ]
  },
  {
   "cell_type": "code",
   "execution_count": 5,
   "metadata": {},
   "outputs": [],
   "source": [
    "#TEVp\n",
    "name=\"TEVp\"\n",
    "active_site=[47, 82, 152]\n",
    "pdb = (\"../data/pdbs/wt/af2_wt_structures/_TEVp_wt_unrelaxed_rank_1_model_4.pdb\")\n",
    "analyzer = insrtr.LoopAnalyzer(struct_file_path=pdb, struct_name=f\"{name}\", active_res_index1=active_site)\n",
    "features = analyzer.analyze_structure()\n",
    "features.to_excel(f\"../data/output/wt/af2/{name}.xlsx\")"
   ]
  },
  {
   "cell_type": "code",
   "execution_count": 6,
   "metadata": {},
   "outputs": [],
   "source": [
    "#Fluc\n",
    "name=\"fLuc\"\n",
    "active_site=[209, 349, 427]\n",
    "pdb = (\"../data/pdbs/wt/af2_wt_structures/_Fluc_wt_unrelaxed_rank_1_model_3.pdb\")\n",
    "analyzer = insrtr.LoopAnalyzer(struct_file_path=pdb, struct_name=f\"{name}\", active_res_index1=active_site)\n",
    "features = analyzer.analyze_structure()\n",
    "features.to_excel(f\"../data/output/wt/af2/{name}.xlsx\")"
   ]
  },
  {
   "cell_type": "code",
   "execution_count": 7,
   "metadata": {},
   "outputs": [],
   "source": [
    "#CarT\n",
    "name=\"CarT\"\n",
    "#active_site=[209, 349, 427]\n",
    "pdb = (\"../data/pdbs/wt/af2_wt_structures/_CarT_wt_unrelaxed_rank_1_model_3.pdb\")\n",
    "analyzer = insrtr.LoopAnalyzer(struct_file_path=pdb, struct_name=f\"{name}\") #, active_res_index1=active_site)\n",
    "features = analyzer.analyze_structure()\n",
    "features.to_excel(f\"../data/output/wt/af2/{name}.xlsx\")"
   ]
  },
  {
   "cell_type": "code",
   "execution_count": 8,
   "metadata": {},
   "outputs": [],
   "source": [
    "#dCas\n",
    "name=\"dCas\"\n",
    "#active_site=[209, 349, 427]\n",
    "pdb = (\"../data/pdbs/wt/af2_wt_structures/_dCas_wt_unrelaxed_rank_1_model_4.pdb\")\n",
    "analyzer = insrtr.LoopAnalyzer(struct_file_path=pdb, struct_name=f\"{name}\") #, active_res_index1=active_site)\n",
    "features = analyzer.analyze_structure()\n",
    "features.to_excel(f\"../data/output/wt/af2/{name}.xlsx\")"
   ]
  },
  {
   "cell_type": "code",
   "execution_count": 9,
   "metadata": {},
   "outputs": [],
   "source": [
    "#MyD88\n",
    "name=\"MyD88\"\n",
    "#active_site=[209, 349, 427]\n",
    "pdb = (\"../data/pdbs/wt/af2_wt_structures/_MyD88_wt_unrelaxed_rank_1_model_5.pdb\")\n",
    "analyzer = insrtr.LoopAnalyzer(struct_file_path=pdb, struct_name=f\"{name}\") #, active_res_index1=active_site)\n",
    "features = analyzer.analyze_structure()\n",
    "features.to_excel(f\"../data/output/wt/af2/{name}.xlsx\")"
   ]
  },
  {
   "cell_type": "code",
   "execution_count": 10,
   "metadata": {},
   "outputs": [],
   "source": [
    "#ngGFP\n",
    "name=\"ngGFP\"\n",
    "#active_site=[209, 349, 427]\n",
    "pdb = (\"../data/pdbs/wt/af2_wt_structures/_ngGFP_wt_unrelaxed_rank_1_model_4.pdb\")\n",
    "analyzer = insrtr.LoopAnalyzer(struct_file_path=pdb, struct_name=f\"{name}\") #, active_res_index1=active_site)\n",
    "features = analyzer.analyze_structure()\n",
    "features.to_excel(f\"../data/output/wt/af2/{name}.xlsx\")"
   ]
  },
  {
   "cell_type": "code",
   "execution_count": 11,
   "metadata": {},
   "outputs": [],
   "source": [
    "#TALEA\n",
    "name=\"TALEA\"\n",
    "#active_site=[209, 349, 427]\n",
    "pdb = (\"../data/pdbs/wt/af2_wt_structures/_TALEA_wt_unrelaxed_rank_1_model_3.pdb\")\n",
    "analyzer = insrtr.LoopAnalyzer(struct_file_path=pdb, struct_name=f\"{name}\") #, active_res_index1=active_site)\n",
    "features = analyzer.analyze_structure()\n",
    "features.to_excel(f\"../data/output/wt/af2/{name}.xlsx\")"
   ]
  },
  {
   "cell_type": "code",
   "execution_count": null,
   "metadata": {},
   "outputs": [],
   "source": []
  },
  {
   "cell_type": "code",
   "execution_count": null,
   "metadata": {},
   "outputs": [],
   "source": []
  },
  {
   "cell_type": "code",
   "execution_count": null,
   "metadata": {},
   "outputs": [],
   "source": []
  },
  {
   "cell_type": "code",
   "execution_count": 10,
   "metadata": {},
   "outputs": [
    {
     "data": {
      "text/plain": [
       "'pdbs = glob.glob(\\'../data/pdbs/wt/*.pdb\\')\\nfor pdb in pdbs:\\n    pdb_name = re.split(\\'/\\',pdb)[-1].split(\"_unrelaxed\")[0]\\n    analyzer=insrtr.LoopAnalyzer(pdb)\\n    features=analyzer.analyze_structure()\\n    features.to_excel(f\"../data/output/wt/{pdb_name}.xlsx\")\\n    print(f\"{pdb_name} analysed\")'"
      ]
     },
     "execution_count": 10,
     "metadata": {},
     "output_type": "execute_result"
    }
   ],
   "source": [
    "#import glob\n",
    "#import re\n",
    "\n",
    "\"\"\"pdbs = glob.glob('../data/pdbs/wt/*.pdb')\n",
    "for pdb in pdbs:\n",
    "    pdb_name = re.split('/',pdb)[-1].split(\"_unrelaxed\")[0]\n",
    "    analyzer=insrtr.LoopAnalyzer(pdb)\n",
    "    features=analyzer.analyze_structure()\n",
    "    features.to_excel(f\"../data/output/wt/{pdb_name}.xlsx\")\n",
    "    print(f\"{pdb_name} analysed\")\"\"\""
   ]
  },
  {
   "cell_type": "code",
   "execution_count": null,
   "metadata": {},
   "outputs": [],
   "source": []
  }
 ],
 "metadata": {
  "kernelspec": {
   "display_name": "Python 3 (ipykernel)",
   "language": "python",
   "name": "python3"
  },
  "language_info": {
   "codemirror_mode": {
    "name": "ipython",
    "version": 3
   },
   "file_extension": ".py",
   "mimetype": "text/x-python",
   "name": "python",
   "nbconvert_exporter": "python",
   "pygments_lexer": "ipython3",
   "version": "3.9.15"
  },
  "vscode": {
   "interpreter": {
    "hash": "63f4daefb166d453be93b5afe653c18d24a3741a6b90ca0770d6245112bbf1e5"
   }
  }
 },
 "nbformat": 4,
 "nbformat_minor": 4
}
