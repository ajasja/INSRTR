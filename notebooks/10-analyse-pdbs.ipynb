{
 "cells": [
  {
   "cell_type": "code",
   "execution_count": 2,
   "metadata": {},
   "outputs": [
    {
     "name": "stdout",
     "output_type": "stream",
     "text": [
      "d:\\owncloud\\Projekti_KI\\SIDE\\2022-06-10__CCRegulation\\INSRTR\\notebooks\n",
      "ajaomen\n"
     ]
    }
   ],
   "source": [
    "%load_ext autoreload\n",
    "%autoreload 2\n",
    "import os; print(os.getcwd())\n",
    "import socket; print(socket.gethostname())\n",
    "\n",
    "import sys\n",
    "sys.path.append(\"../\")\n",
    "\n",
    "import insrtr\n",
    "import mdtraj as md "
   ]
  },
  {
   "cell_type": "markdown",
   "metadata": {},
   "source": [
    "## AF2 wt structures"
   ]
  },
  {
   "cell_type": "code",
   "execution_count": 52,
   "metadata": {},
   "outputs": [],
   "source": [
    "import pandas as pd\n",
    "active_sites=pd.read_excel('../data/List_of_active_sites.xlsx', 'list_of_active_sites')\n",
    "constructs=pd.read_excel('../data/INSRTR_constructs.xlsx')\n",
    "#this are the experimental positions tested and features should be calculated regardless of secondary structure\n",
    "experimental_positions=constructs.groupby('Protein')['insert_index1'].aggregate(lambda x: list(x))"
   ]
  },
  {
   "cell_type": "code",
   "execution_count": 59,
   "metadata": {},
   "outputs": [
    {
     "name": "stdout",
     "output_type": "stream",
     "text": [
      "Lck\n",
      "CarT\n",
      "Bgal\n",
      "mIRAK1\n",
      "fLuc\n",
      "TEVp\n",
      "TALEA\n",
      "dCas\n",
      "MyD88\n",
      "ngGFP\n"
     ]
    }
   ],
   "source": [
    "for row in list(active_sites.itertuples()):\n",
    "    print(row.Name)\n",
    "    pdb_name = f'../data/pdbs/wt/af2_wt_structures/{row.PDB_name}'\n",
    "    # if there is only a single number it picks it up as int, which is why the str() to int() stuff is there\n",
    "    active_sites_list = [int(site) for site in str(row.active_site).split(',')]\n",
    "    always_include_res = [int(res) for res in experimental_positions[row.Name]]\n",
    "    out_name = f\"../data/output/wt/af2/{row.Name}.xlsx\"\n",
    "    #print(always_include_res)\n",
    "    \n",
    "    analyzer = insrtr.LoopAnalyzer(struct_file_path=pdb_name, struct_name=row.Name, active_res_index1=active_sites_list)\n",
    "    features = analyzer.analyze_structure()\n",
    "    features.to_excel(out_name)\n",
    "    \n"
   ]
  },
  {
   "cell_type": "code",
   "execution_count": 2,
   "metadata": {},
   "outputs": [],
   "source": [
    "##################### OLD stuff #########################################\n",
    "#Bgal\n",
    "name=\"Bgal\"\n",
    "active_site=[454, 530]\n",
    "Bgal_pdb = (\"../data/pdbs/wt/af2_wt_structures/_Bgal_wt_unrelaxed_rank_1_model_5.pdb\")\n",
    "analyzer = insrtr.LoopAnalyzer(struct_file_path=Bgal_pdb, struct_name=f\"{name}\", active_res_index1=active_site)\n",
    "features = analyzer.analyze_structure()\n",
    "features.to_excel(f\"../data/output/wt/af2/{name}.xlsx\")"
   ]
  },
  {
   "cell_type": "code",
   "execution_count": 3,
   "metadata": {},
   "outputs": [],
   "source": [
    "#LCK\n",
    "name=\"Lck\"\n",
    "active_site=[364]\n",
    "pdb = (\"../data/pdbs/wt/af2_wt_structures/_LCK_wt_unrelaxed_rank_1_model_4.pdb\")\n",
    "analyzer = insrtr.LoopAnalyzer(struct_file_path=pdb, struct_name=f\"{name}\", active_res_index1=active_site)\n",
    "features = analyzer.analyze_structure()\n",
    "features.to_excel(f\"../data/output/wt/af2/{name}.xlsx\")\n",
    "#not happy with active site residues"
   ]
  },
  {
   "cell_type": "code",
   "execution_count": 4,
   "metadata": {},
   "outputs": [],
   "source": [
    "#IRAK\n",
    "name=\"mIRAK1\"\n",
    "active_site=[340]\n",
    "pdb = (\"../data/pdbs/wt/af2_wt_structures/_mIRAK_wt_unrelaxed_rank_1_model_3.pdb\")\n",
    "analyzer = insrtr.LoopAnalyzer(struct_file_path=pdb, struct_name=f\"{name}\", active_res_index1=active_site)\n",
    "features = analyzer.analyze_structure()\n",
    "features.to_excel(f\"../data/output/wt/af2/{name}.xlsx\")"
   ]
  },
  {
   "cell_type": "code",
   "execution_count": 5,
   "metadata": {},
   "outputs": [],
   "source": [
    "#TEVp\n",
    "name=\"TEVp\"\n",
    "active_site=[47, 82, 152]\n",
    "pdb = (\"../data/pdbs/wt/af2_wt_structures/_TEVp_wt_unrelaxed_rank_1_model_4.pdb\")\n",
    "analyzer = insrtr.LoopAnalyzer(struct_file_path=pdb, struct_name=f\"{name}\", active_res_index1=active_site)\n",
    "features = analyzer.analyze_structure()\n",
    "features.to_excel(f\"../data/output/wt/af2/{name}.xlsx\")"
   ]
  },
  {
   "cell_type": "code",
   "execution_count": 6,
   "metadata": {},
   "outputs": [],
   "source": [
    "#Fluc\n",
    "name=\"fLuc\"\n",
    "active_site=[209, 349, 427]\n",
    "pdb = (\"../data/pdbs/wt/af2_wt_structures/_Fluc_wt_unrelaxed_rank_1_model_3.pdb\")\n",
    "analyzer = insrtr.LoopAnalyzer(struct_file_path=pdb, struct_name=f\"{name}\", active_res_index1=active_site)\n",
    "features = analyzer.analyze_structure()\n",
    "features.to_excel(f\"../data/output/wt/af2/{name}.xlsx\")"
   ]
  },
  {
   "cell_type": "code",
   "execution_count": 7,
   "metadata": {},
   "outputs": [],
   "source": [
    "#CarT\n",
    "name=\"CarT\"\n",
    "#active_site=[209, 349, 427]\n",
    "pdb = (\"../data/pdbs/wt/af2_wt_structures/_CarT_wt_unrelaxed_rank_1_model_3.pdb\")\n",
    "analyzer = insrtr.LoopAnalyzer(struct_file_path=pdb, struct_name=f\"{name}\") #, active_res_index1=active_site)\n",
    "features = analyzer.analyze_structure()\n",
    "features.to_excel(f\"../data/output/wt/af2/{name}.xlsx\")"
   ]
  },
  {
   "cell_type": "code",
   "execution_count": 8,
   "metadata": {},
   "outputs": [],
   "source": [
    "#dCas\n",
    "name=\"dCas\"\n",
    "#active_site=[209, 349, 427]\n",
    "pdb = (\"../data/pdbs/wt/af2_wt_structures/_dCas_wt_unrelaxed_rank_1_model_4.pdb\")\n",
    "analyzer = insrtr.LoopAnalyzer(struct_file_path=pdb, struct_name=f\"{name}\") #, active_res_index1=active_site)\n",
    "features = analyzer.analyze_structure()\n",
    "features.to_excel(f\"../data/output/wt/af2/{name}.xlsx\")"
   ]
  },
  {
   "cell_type": "code",
   "execution_count": 9,
   "metadata": {},
   "outputs": [],
   "source": [
    "#MyD88\n",
    "name=\"MyD88\"\n",
    "#active_site=[209, 349, 427]\n",
    "pdb = (\"../data/pdbs/wt/af2_wt_structures/_MyD88_wt_unrelaxed_rank_1_model_5.pdb\")\n",
    "analyzer = insrtr.LoopAnalyzer(struct_file_path=pdb, struct_name=f\"{name}\") #, active_res_index1=active_site)\n",
    "features = analyzer.analyze_structure()\n",
    "features.to_excel(f\"../data/output/wt/af2/{name}.xlsx\")"
   ]
  },
  {
   "cell_type": "code",
   "execution_count": 10,
   "metadata": {},
   "outputs": [],
   "source": [
    "#ngGFP\n",
    "name=\"ngGFP\"\n",
    "#active_site=[209, 349, 427]\n",
    "pdb = (\"../data/pdbs/wt/af2_wt_structures/_ngGFP_wt_unrelaxed_rank_1_model_4.pdb\")\n",
    "analyzer = insrtr.LoopAnalyzer(struct_file_path=pdb, struct_name=f\"{name}\") #, active_res_index1=active_site)\n",
    "features = analyzer.analyze_structure()\n",
    "features.to_excel(f\"../data/output/wt/af2/{name}.xlsx\")"
   ]
  },
  {
   "cell_type": "code",
   "execution_count": 11,
   "metadata": {},
   "outputs": [],
   "source": [
    "#TALEA\n",
    "name=\"TALEA\"\n",
    "#active_site=[209, 349, 427]\n",
    "pdb = (\"../data/pdbs/wt/af2_wt_structures/_TALEA_wt_unrelaxed_rank_1_model_3.pdb\")\n",
    "analyzer = insrtr.LoopAnalyzer(struct_file_path=pdb, struct_name=f\"{name}\") #, active_res_index1=active_site)\n",
    "features = analyzer.analyze_structure()\n",
    "features.to_excel(f\"../data/output/wt/af2/{name}.xlsx\")"
   ]
  },
  {
   "cell_type": "code",
   "execution_count": null,
   "metadata": {},
   "outputs": [],
   "source": []
  },
  {
   "cell_type": "code",
   "execution_count": null,
   "metadata": {},
   "outputs": [],
   "source": []
  },
  {
   "cell_type": "code",
   "execution_count": null,
   "metadata": {},
   "outputs": [],
   "source": []
  },
  {
   "cell_type": "code",
   "execution_count": 10,
   "metadata": {},
   "outputs": [
    {
     "data": {
      "text/plain": [
       "'pdbs = glob.glob(\\'../data/pdbs/wt/*.pdb\\')\\nfor pdb in pdbs:\\n    pdb_name = re.split(\\'/\\',pdb)[-1].split(\"_unrelaxed\")[0]\\n    analyzer=insrtr.LoopAnalyzer(pdb)\\n    features=analyzer.analyze_structure()\\n    features.to_excel(f\"../data/output/wt/{pdb_name}.xlsx\")\\n    print(f\"{pdb_name} analysed\")'"
      ]
     },
     "execution_count": 10,
     "metadata": {},
     "output_type": "execute_result"
    }
   ],
   "source": [
    "#import glob\n",
    "#import re\n",
    "\n",
    "\"\"\"pdbs = glob.glob('../data/pdbs/wt/*.pdb')\n",
    "for pdb in pdbs:\n",
    "    pdb_name = re.split('/',pdb)[-1].split(\"_unrelaxed\")[0]\n",
    "    analyzer=insrtr.LoopAnalyzer(pdb)\n",
    "    features=analyzer.analyze_structure()\n",
    "    features.to_excel(f\"../data/output/wt/{pdb_name}.xlsx\")\n",
    "    print(f\"{pdb_name} analysed\")\"\"\""
   ]
  },
  {
   "cell_type": "code",
   "execution_count": null,
   "metadata": {},
   "outputs": [],
   "source": []
  }
 ],
 "metadata": {
  "kernelspec": {
   "display_name": "cocopod",
   "language": "python",
   "name": "python3"
  },
  "language_info": {
   "codemirror_mode": {
    "name": "ipython",
    "version": 3
   },
   "file_extension": ".py",
   "mimetype": "text/x-python",
   "name": "python",
   "nbconvert_exporter": "python",
   "pygments_lexer": "ipython3",
   "version": "3.8.13"
  },
  "vscode": {
   "interpreter": {
    "hash": "67c0856e3a42f0ac5e208b6805f6abd324630b8af5329f70a0f23326d1f9d68d"
   }
  }
 },
 "nbformat": 4,
 "nbformat_minor": 4
}
