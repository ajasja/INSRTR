{
 "cells": [
  {
   "cell_type": "code",
   "execution_count": 1,
   "metadata": {},
   "outputs": [
    {
     "name": "stdout",
     "output_type": "stream",
     "text": [
      "/Users/tadejsatler/Repositories/INSRTR/INSRTR/INSRTR-1/notebooks\n",
      "Tadejs-MacBook-Air.local\n"
     ]
    }
   ],
   "source": [
    "%load_ext autoreload\n",
    "%autoreload 2\n",
    "import os; print(os.getcwd())\n",
    "import socket; print(socket.gethostname())\n",
    "\n",
    "import sys\n",
    "sys.path.append(\"../\")\n",
    "\n",
    "import insrtr\n",
    "import mdtraj as md "
   ]
  },
  {
   "cell_type": "code",
   "execution_count": 2,
   "metadata": {},
   "outputs": [
    {
     "name": "stdout",
     "output_type": "stream",
     "text": [
      "LUCwt.pdb analysed\n",
      "Cas9-7oxa.pdb analysed\n",
      "TEVp.pdb analysed\n",
      "lck-1qpc.pdb analysed\n",
      "gfp-5ltp.pdb analysed\n",
      "TALE-2ypf.pdb analysed\n"
     ]
    },
    {
     "name": "stderr",
     "output_type": "stream",
     "text": [
      "/Users/tadejsatler/opt/miniconda3/lib/python3.9/site-packages/mdtraj/formats/pdb/pdbfile.py:200: UserWarning: Unlikely unit cell vectors detected in PDB file likely resulting from a dummy CRYST1 record. Discarding unit cell vectors.\n",
      "  warnings.warn('Unlikely unit cell vectors detected in PDB file likely '\n"
     ]
    },
    {
     "name": "stdout",
     "output_type": "stream",
     "text": [
      "bgal-6x1q-chainA.pdb analysed\n",
      "irak-6bfn.pdb analysed\n"
     ]
    }
   ],
   "source": [
    "import glob\n",
    "import re\n",
    "\n",
    "pdbs = glob.glob('../data/pdbs/wt/*.pdb')\n",
    "for pdb in pdbs:\n",
    "    pdb_name = re.split('/',pdb)[-1].split(\"_unrelaxed\")[0]\n",
    "    analyzer=insrtr.LoopAnalyzer(pdb)\n",
    "    features=analyzer.analyze_structure()\n",
    "    features.to_excel(f\"../data/output/wt/{pdb_name}.xlsx\")\n",
    "    print(f\"{pdb_name} analysed\")"
   ]
  },
  {
   "cell_type": "code",
   "execution_count": null,
   "metadata": {},
   "outputs": [],
   "source": []
  }
 ],
 "metadata": {
  "kernelspec": {
   "display_name": "Python 3 (ipykernel)",
   "language": "python",
   "name": "python3"
  },
  "language_info": {
   "codemirror_mode": {
    "name": "ipython",
    "version": 3
   },
   "file_extension": ".py",
   "mimetype": "text/x-python",
   "name": "python",
   "nbconvert_exporter": "python",
   "pygments_lexer": "ipython3",
   "version": "3.9.15"
  },
  "vscode": {
   "interpreter": {
    "hash": "63f4daefb166d453be93b5afe653c18d24a3741a6b90ca0770d6245112bbf1e5"
   }
  }
 },
 "nbformat": 4,
 "nbformat_minor": 4
}
