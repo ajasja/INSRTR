{
 "cells": [
  {
   "cell_type": "code",
   "execution_count": 1,
   "metadata": {},
   "outputs": [
    {
     "name": "stdout",
     "output_type": "stream",
     "text": [
      "/Users/tadejsatler/Repositories/INSRTR/INSRTR/INSRTR-1/notebooks\n",
      "Tadejs-Air\n"
     ]
    }
   ],
   "source": [
    "%load_ext autoreload\n",
    "%autoreload 2\n",
    "import os; print(os.getcwd())\n",
    "import socket; print(socket.gethostname())\n",
    "\n",
    "import sys\n",
    "sys.path.append(\"../\")\n",
    "\n",
    "import insrtr\n",
    "import mdtraj as md "
   ]
  },
  {
   "cell_type": "code",
   "execution_count": null,
   "metadata": {},
   "outputs": [],
   "source": [
    "#Active_sites:\n",
    "\"\"\"Bgal (pdb6X1Q) – Glu460, Glu536 (in seq).\n",
    "LCK (AF2) – Asp364 .... pdb1QPC – 231-509(end), but not whole sequence.. Asp364 in pdb!.\n",
    "MyD88 - /\n",
    "IRAK(AF2) – Asp340 ....pdb6BFN - 194-530(end), not whole sequence... 340 in pdb!.\n",
    "TEVp - His46, Asp81 and Cys151.\n",
    "Cas9 - /.\n",
    "TALE - /.\n",
    "scFV - /.\n",
    "ngGFP - /.\n",
    "fLUC (1BA3) – Lys204, Glu344, Asp422.\"\"\""
   ]
  },
  {
   "cell_type": "code",
   "execution_count": 3,
   "metadata": {},
   "outputs": [
    {
     "name": "stderr",
     "output_type": "stream",
     "text": [
      "/Users/tadejsatler/opt/miniconda3/lib/python3.9/site-packages/mdtraj/formats/pdb/pdbfile.py:200: UserWarning: Unlikely unit cell vectors detected in PDB file likely resulting from a dummy CRYST1 record. Discarding unit cell vectors.\n",
      "  warnings.warn('Unlikely unit cell vectors detected in PDB file likely '\n"
     ]
    }
   ],
   "source": [
    "#Bgal\n",
    "name=\"Bgal\"\n",
    "Bgal_pdb = (\"../data/pdbs/wt/bgal-6x1q-chainA.pdb\")\n",
    "analyzer = insrtr.LoopAnalyzer(struct_file_path=Bgal_pdb, struct_name=f\"{name}\", active_res_index1=[460,536])\n",
    "features = analyzer.analyze_structure()\n",
    "features.to_excel(f\"../data/output/wt/{name}.xlsx\")"
   ]
  },
  {
   "cell_type": "code",
   "execution_count": 4,
   "metadata": {},
   "outputs": [
    {
     "ename": "ValueError",
     "evalue": "atom_pairs must be ndim 2. You supplied 1",
     "output_type": "error",
     "traceback": [
      "\u001b[0;31m---------------------------------------------------------------------------\u001b[0m",
      "\u001b[0;31mValueError\u001b[0m                                Traceback (most recent call last)",
      "\u001b[1;32m/Users/tadejsatler/Repositories/INSRTR/INSRTR/INSRTR-1/notebooks/10-analyse-pdbs.ipynb Cell 4\u001b[0m in \u001b[0;36m<cell line: 6>\u001b[0;34m()\u001b[0m\n\u001b[1;32m      <a href='vscode-notebook-cell:/Users/tadejsatler/Repositories/INSRTR/INSRTR/INSRTR-1/notebooks/10-analyse-pdbs.ipynb#W3sZmlsZQ%3D%3D?line=3'>4</a>\u001b[0m pdb \u001b[39m=\u001b[39m (\u001b[39m\"\u001b[39m\u001b[39m../data/pdbs/wt/lck-1qpc.pdb\u001b[39m\u001b[39m\"\u001b[39m)\n\u001b[1;32m      <a href='vscode-notebook-cell:/Users/tadejsatler/Repositories/INSRTR/INSRTR/INSRTR-1/notebooks/10-analyse-pdbs.ipynb#W3sZmlsZQ%3D%3D?line=4'>5</a>\u001b[0m analyzer \u001b[39m=\u001b[39m insrtr\u001b[39m.\u001b[39mLoopAnalyzer(struct_file_path\u001b[39m=\u001b[39mpdb, struct_name\u001b[39m=\u001b[39m\u001b[39mf\u001b[39m\u001b[39m\"\u001b[39m\u001b[39m{\u001b[39;00mname\u001b[39m}\u001b[39;00m\u001b[39m\"\u001b[39m, active_res_index1\u001b[39m=\u001b[39mactive_site)\n\u001b[0;32m----> <a href='vscode-notebook-cell:/Users/tadejsatler/Repositories/INSRTR/INSRTR/INSRTR-1/notebooks/10-analyse-pdbs.ipynb#W3sZmlsZQ%3D%3D?line=5'>6</a>\u001b[0m features \u001b[39m=\u001b[39m analyzer\u001b[39m.\u001b[39;49manalyze_structure()\n\u001b[1;32m      <a href='vscode-notebook-cell:/Users/tadejsatler/Repositories/INSRTR/INSRTR/INSRTR-1/notebooks/10-analyse-pdbs.ipynb#W3sZmlsZQ%3D%3D?line=6'>7</a>\u001b[0m features\u001b[39m.\u001b[39mto_excel(\u001b[39mf\u001b[39m\u001b[39m\"\u001b[39m\u001b[39m../data/output/wt/\u001b[39m\u001b[39m{\u001b[39;00mname\u001b[39m}\u001b[39;00m\u001b[39m.xlsx\u001b[39m\u001b[39m\"\u001b[39m)\n",
      "File \u001b[0;32m~/Repositories/INSRTR/INSRTR/INSRTR-1/notebooks/../insrtr/analysis.py:119\u001b[0m, in \u001b[0;36mLoopAnalyzer.analyze_structure\u001b[0;34m(self)\u001b[0m\n\u001b[1;32m    115\u001b[0m \u001b[39m\"\"\"Analyze the structure\"\"\"\u001b[39;00m\n\u001b[1;32m    117\u001b[0m \u001b[39mself\u001b[39m\u001b[39m.\u001b[39mget_loop_features()\n\u001b[0;32m--> 119\u001b[0m \u001b[39mself\u001b[39;49m\u001b[39m.\u001b[39;49mget_resi_features()\n\u001b[1;32m    121\u001b[0m resi_table \u001b[39m=\u001b[39m pd\u001b[39m.\u001b[39mDataFrame(\u001b[39mself\u001b[39m\u001b[39m.\u001b[39m_resi_features)\n\u001b[1;32m    122\u001b[0m loop_table \u001b[39m=\u001b[39m pd\u001b[39m.\u001b[39mDataFrame(\u001b[39mself\u001b[39m\u001b[39m.\u001b[39m_loop_features)\n",
      "File \u001b[0;32m~/Repositories/INSRTR/INSRTR/INSRTR-1/notebooks/../insrtr/analysis.py:245\u001b[0m, in \u001b[0;36mLoopAnalyzer.get_resi_features\u001b[0;34m(self)\u001b[0m\n\u001b[1;32m    242\u001b[0m     \u001b[39mself\u001b[39m\u001b[39m.\u001b[39mresi_feature_descriptions[\u001b[39m\"\u001b[39m\u001b[39mloop_index0\u001b[39m\u001b[39m\"\u001b[39m] \u001b[39m=\u001b[39m \u001b[39m\"\u001b[39m\u001b[39mThe zero based index of the loop.\u001b[39m\u001b[39m\"\u001b[39m\n\u001b[1;32m    244\u001b[0m \u001b[39mfor\u001b[39;00m resi_analyzer \u001b[39min\u001b[39;00m \u001b[39mself\u001b[39m\u001b[39m.\u001b[39m_resi_analyzers:\n\u001b[0;32m--> 245\u001b[0m     res \u001b[39m=\u001b[39m resi_analyzer(\u001b[39mself\u001b[39;49m, li, ri, loop)\n\u001b[1;32m    246\u001b[0m     \u001b[39mfor\u001b[39;00m f \u001b[39min\u001b[39;00m res\u001b[39m.\u001b[39mkeys():\n\u001b[1;32m    247\u001b[0m         \u001b[39m# Add the values and descriptions to different lists\u001b[39;00m\n\u001b[1;32m    248\u001b[0m         \u001b[39m# Append to the last\u001b[39;00m\n\u001b[1;32m    249\u001b[0m         \u001b[39mself\u001b[39m\u001b[39m.\u001b[39m_resi_features[\u001b[39m-\u001b[39m\u001b[39m1\u001b[39m][f] \u001b[39m=\u001b[39m res[f][\u001b[39m0\u001b[39m]\n",
      "File \u001b[0;32m~/Repositories/INSRTR/INSRTR/INSRTR-1/notebooks/../insrtr/analysis.py:347\u001b[0m, in \u001b[0;36mLoopAnalyzer.get_active_geometry_res_info\u001b[0;34m(self, loop_index0, resi_loop_index0, loop_residues)\u001b[0m\n\u001b[1;32m    345\u001b[0m     \u001b[39mreturn\u001b[39;00m \u001b[39mdict\u001b[39m()\n\u001b[1;32m    346\u001b[0m resi_index0 \u001b[39m=\u001b[39m loop_residues[resi_loop_index0]\n\u001b[0;32m--> 347\u001b[0m dists \u001b[39m=\u001b[39m \u001b[39mself\u001b[39;49m\u001b[39m.\u001b[39;49mget_distances(resi_index0, \u001b[39mself\u001b[39;49m\u001b[39m.\u001b[39;49mactive_res_index0)\n\u001b[1;32m    348\u001b[0m resi_active_site_dist_min_A \u001b[39m=\u001b[39m np\u001b[39m.\u001b[39mmin(dists)\n\u001b[1;32m    349\u001b[0m resi_active_site_dist_avg_A \u001b[39m=\u001b[39m np\u001b[39m.\u001b[39maverage(dists)\n",
      "File \u001b[0;32m~/Repositories/INSRTR/INSRTR/INSRTR-1/notebooks/../insrtr/analysis.py:340\u001b[0m, in \u001b[0;36mLoopAnalyzer.get_distances\u001b[0;34m(self, resid0, target_resids0)\u001b[0m\n\u001b[1;32m    333\u001b[0m targets \u001b[39m=\u001b[39m [\n\u001b[1;32m    334\u001b[0m     atom\u001b[39m.\u001b[39mindex\n\u001b[1;32m    335\u001b[0m     \u001b[39mfor\u001b[39;00m atom \u001b[39min\u001b[39;00m \u001b[39mself\u001b[39m\u001b[39m.\u001b[39mtopology\u001b[39m.\u001b[39matoms\n\u001b[1;32m    336\u001b[0m     \u001b[39mif\u001b[39;00m ((atom\u001b[39m.\u001b[39mresidue\u001b[39m.\u001b[39mindex \u001b[39min\u001b[39;00m target_resids0) \u001b[39mand\u001b[39;00m (atom\u001b[39m.\u001b[39mname \u001b[39m==\u001b[39m \u001b[39m\"\u001b[39m\u001b[39mCA\u001b[39m\u001b[39m\"\u001b[39m))\n\u001b[1;32m    337\u001b[0m ]\n\u001b[1;32m    339\u001b[0m pairs \u001b[39m=\u001b[39m [(residue_CA, target) \u001b[39mfor\u001b[39;00m target \u001b[39min\u001b[39;00m targets]\n\u001b[0;32m--> 340\u001b[0m dists_A \u001b[39m=\u001b[39m md\u001b[39m.\u001b[39;49mcompute_distances(\u001b[39mself\u001b[39;49m\u001b[39m.\u001b[39;49mtraj, pairs)[\u001b[39m0\u001b[39m] \u001b[39m*\u001b[39m \u001b[39m10\u001b[39m\n\u001b[1;32m    341\u001b[0m \u001b[39mreturn\u001b[39;00m dists_A\n",
      "File \u001b[0;32m~/opt/miniconda3/lib/python3.9/site-packages/mdtraj/geometry/distance.py:61\u001b[0m, in \u001b[0;36mcompute_distances\u001b[0;34m(traj, atom_pairs, periodic, opt)\u001b[0m\n\u001b[1;32m     38\u001b[0m \u001b[39m\"\"\"Compute the distances between pairs of atoms in each frame.\u001b[39;00m\n\u001b[1;32m     39\u001b[0m \n\u001b[1;32m     40\u001b[0m \u001b[39mParameters\u001b[39;00m\n\u001b[0;32m   (...)\u001b[0m\n\u001b[1;32m     58\u001b[0m \u001b[39m    The distance, in each frame, between each pair of atoms.\u001b[39;00m\n\u001b[1;32m     59\u001b[0m \u001b[39m\"\"\"\u001b[39;00m\n\u001b[1;32m     60\u001b[0m xyz \u001b[39m=\u001b[39m ensure_type(traj\u001b[39m.\u001b[39mxyz, dtype\u001b[39m=\u001b[39mnp\u001b[39m.\u001b[39mfloat32, ndim\u001b[39m=\u001b[39m\u001b[39m3\u001b[39m, name\u001b[39m=\u001b[39m\u001b[39m'\u001b[39m\u001b[39mtraj.xyz\u001b[39m\u001b[39m'\u001b[39m, shape\u001b[39m=\u001b[39m(\u001b[39mNone\u001b[39;00m, \u001b[39mNone\u001b[39;00m, \u001b[39m3\u001b[39m), warn_on_cast\u001b[39m=\u001b[39m\u001b[39mFalse\u001b[39;00m)\n\u001b[0;32m---> 61\u001b[0m pairs \u001b[39m=\u001b[39m ensure_type(atom_pairs, dtype\u001b[39m=\u001b[39;49mnp\u001b[39m.\u001b[39;49mint32, ndim\u001b[39m=\u001b[39;49m\u001b[39m2\u001b[39;49m, name\u001b[39m=\u001b[39;49m\u001b[39m'\u001b[39;49m\u001b[39matom_pairs\u001b[39;49m\u001b[39m'\u001b[39;49m, shape\u001b[39m=\u001b[39;49m(\u001b[39mNone\u001b[39;49;00m, \u001b[39m2\u001b[39;49m), warn_on_cast\u001b[39m=\u001b[39;49m\u001b[39mFalse\u001b[39;49;00m)\n\u001b[1;32m     62\u001b[0m \u001b[39mif\u001b[39;00m \u001b[39mnot\u001b[39;00m np\u001b[39m.\u001b[39mall(np\u001b[39m.\u001b[39mlogical_and(pairs \u001b[39m<\u001b[39m traj\u001b[39m.\u001b[39mn_atoms, pairs \u001b[39m>\u001b[39m\u001b[39m=\u001b[39m \u001b[39m0\u001b[39m)):\n\u001b[1;32m     63\u001b[0m     \u001b[39mraise\u001b[39;00m \u001b[39mValueError\u001b[39;00m(\u001b[39m'\u001b[39m\u001b[39matom_pairs must be between 0 and \u001b[39m\u001b[39m%d\u001b[39;00m\u001b[39m'\u001b[39m \u001b[39m%\u001b[39m traj\u001b[39m.\u001b[39mn_atoms)\n",
      "File \u001b[0;32m~/opt/miniconda3/lib/python3.9/site-packages/mdtraj/utils/validation.py:122\u001b[0m, in \u001b[0;36mensure_type\u001b[0;34m(val, dtype, ndim, name, length, can_be_none, shape, warn_on_cast, add_newaxis_on_deficient_ndim)\u001b[0m\n\u001b[1;32m    120\u001b[0m         val \u001b[39m=\u001b[39m val[np\u001b[39m.\u001b[39mnewaxis, \u001b[39m.\u001b[39m\u001b[39m.\u001b[39m\u001b[39m.\u001b[39m]\n\u001b[1;32m    121\u001b[0m     \u001b[39melse\u001b[39;00m:\n\u001b[0;32m--> 122\u001b[0m         \u001b[39mraise\u001b[39;00m \u001b[39mValueError\u001b[39;00m((\u001b[39m\"\u001b[39m\u001b[39m%s\u001b[39;00m\u001b[39m must be ndim \u001b[39m\u001b[39m%s\u001b[39;00m\u001b[39m. \u001b[39m\u001b[39m\"\u001b[39m\n\u001b[1;32m    123\u001b[0m             \u001b[39m\"\u001b[39m\u001b[39mYou supplied \u001b[39m\u001b[39m%s\u001b[39;00m\u001b[39m\"\u001b[39m \u001b[39m%\u001b[39m (name, ndim, val\u001b[39m.\u001b[39mndim)))\n\u001b[1;32m    125\u001b[0m val \u001b[39m=\u001b[39m np\u001b[39m.\u001b[39mascontiguousarray(val, dtype\u001b[39m=\u001b[39mdtype)\n\u001b[1;32m    127\u001b[0m \u001b[39mif\u001b[39;00m length \u001b[39mis\u001b[39;00m \u001b[39mnot\u001b[39;00m \u001b[39mNone\u001b[39;00m \u001b[39mand\u001b[39;00m \u001b[39mlen\u001b[39m(val) \u001b[39m!=\u001b[39m length:\n",
      "\u001b[0;31mValueError\u001b[0m: atom_pairs must be ndim 2. You supplied 1"
     ]
    }
   ],
   "source": [
    "#LCK\n",
    "name=\"Lck\"\n",
    "active_site=[364]\n",
    "pdb = (\"../data/pdbs/wt/lck-1qpc.pdb\")\n",
    "analyzer = insrtr.LoopAnalyzer(struct_file_path=pdb, struct_name=f\"{name}\", active_res_index1=active_site)\n",
    "features = analyzer.analyze_structure()\n",
    "features.to_excel(f\"../data/output/wt/{name}.xlsx\")\n",
    "#not happy with active site residues"
   ]
  },
  {
   "cell_type": "code",
   "execution_count": 5,
   "metadata": {},
   "outputs": [],
   "source": [
    "#IRAK\n",
    "name=\"mIRAK1\"\n",
    "active_site=[340]\n",
    "pdb = (\"../data/pdbs/wt/irak-6bfn.pdb\")\n",
    "analyzer = insrtr.LoopAnalyzer(struct_file_path=pdb, struct_name=f\"{name}\", active_res_index1=active_site)\n",
    "features = analyzer.analyze_structure()\n",
    "features.to_excel(f\"../data/output/wt/{name}.xlsx\")"
   ]
  },
  {
   "cell_type": "code",
   "execution_count": 6,
   "metadata": {},
   "outputs": [],
   "source": [
    "#TEVp\n",
    "name=\"TEVp\"\n",
    "active_site=[46,81,151]\n",
    "pdb = (\"../data/pdbs/wt/TEVp.pdb\")\n",
    "analyzer = insrtr.LoopAnalyzer(struct_file_path=pdb, struct_name=f\"{name}\", active_res_index1=active_site)\n",
    "features = analyzer.analyze_structure()\n",
    "features.to_excel(f\"../data/output/wt/{name}.xlsx\")"
   ]
  },
  {
   "cell_type": "code",
   "execution_count": 7,
   "metadata": {},
   "outputs": [],
   "source": [
    "#Fluc\n",
    "name=\"fLuc\"\n",
    "active_site=[204,344,422]\n",
    "pdb = (\"../data/pdbs/wt/1ba3.pdb\")\n",
    "analyzer = insrtr.LoopAnalyzer(struct_file_path=pdb, struct_name=f\"{name}\", active_res_index1=active_site)\n",
    "features = analyzer.analyze_structure()\n",
    "features.to_excel(f\"../data/output/wt/{name}.xlsx\")"
   ]
  },
  {
   "cell_type": "code",
   "execution_count": null,
   "metadata": {},
   "outputs": [],
   "source": []
  },
  {
   "cell_type": "code",
   "execution_count": null,
   "metadata": {},
   "outputs": [],
   "source": []
  },
  {
   "cell_type": "code",
   "execution_count": null,
   "metadata": {},
   "outputs": [],
   "source": []
  },
  {
   "cell_type": "code",
   "execution_count": 10,
   "metadata": {},
   "outputs": [
    {
     "data": {
      "text/plain": [
       "'pdbs = glob.glob(\\'../data/pdbs/wt/*.pdb\\')\\nfor pdb in pdbs:\\n    pdb_name = re.split(\\'/\\',pdb)[-1].split(\"_unrelaxed\")[0]\\n    analyzer=insrtr.LoopAnalyzer(pdb)\\n    features=analyzer.analyze_structure()\\n    features.to_excel(f\"../data/output/wt/{pdb_name}.xlsx\")\\n    print(f\"{pdb_name} analysed\")'"
      ]
     },
     "execution_count": 10,
     "metadata": {},
     "output_type": "execute_result"
    }
   ],
   "source": [
    "#import glob\n",
    "#import re\n",
    "\n",
    "\"\"\"pdbs = glob.glob('../data/pdbs/wt/*.pdb')\n",
    "for pdb in pdbs:\n",
    "    pdb_name = re.split('/',pdb)[-1].split(\"_unrelaxed\")[0]\n",
    "    analyzer=insrtr.LoopAnalyzer(pdb)\n",
    "    features=analyzer.analyze_structure()\n",
    "    features.to_excel(f\"../data/output/wt/{pdb_name}.xlsx\")\n",
    "    print(f\"{pdb_name} analysed\")\"\"\""
   ]
  },
  {
   "cell_type": "code",
   "execution_count": null,
   "metadata": {},
   "outputs": [],
   "source": []
  }
 ],
 "metadata": {
  "kernelspec": {
   "display_name": "Python 3 (ipykernel)",
   "language": "python",
   "name": "python3"
  },
  "language_info": {
   "codemirror_mode": {
    "name": "ipython",
    "version": 3
   },
   "file_extension": ".py",
   "mimetype": "text/x-python",
   "name": "python",
   "nbconvert_exporter": "python",
   "pygments_lexer": "ipython3",
   "version": "3.9.15"
  },
  "vscode": {
   "interpreter": {
    "hash": "63f4daefb166d453be93b5afe653c18d24a3741a6b90ca0770d6245112bbf1e5"
   }
  }
 },
 "nbformat": 4,
 "nbformat_minor": 4
}
