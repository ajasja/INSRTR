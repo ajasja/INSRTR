{
 "cells": [
  {
   "cell_type": "code",
   "execution_count": 1,
   "metadata": {},
   "outputs": [
    {
     "name": "stdout",
     "output_type": "stream",
     "text": [
      "d:\\owncloud\\Projekti_KI\\SIDE\\2022-06-10__CCRegulation\\INSRTR\\notebooks\n",
      "ajaomen\n"
     ]
    }
   ],
   "source": [
    "%load_ext autoreload\n",
    "%autoreload 2\n",
    "import os; print(os.getcwd())\n",
    "import socket; print(socket.gethostname())\n",
    "\n",
    "import sys\n",
    "sys.path.append(\"../\")\n",
    "\n",
    "import insrtr"
   ]
  },
  {
   "cell_type": "code",
   "execution_count": 3,
   "metadata": {},
   "outputs": [],
   "source": [
    "import pandas as pd\n"
   ]
  },
  {
   "cell_type": "code",
   "execution_count": 29,
   "metadata": {},
   "outputs": [],
   "source": [
    "model_file = \"D:\\owncloud\\CCregulacija\\ML model\\Predictions_v1\\Predictions_UnlabeledData.xlsx\"\n",
    "sheet = \"t1t2;forest\"\n",
    "struct_name='fLuc'\n",
    "pdb_file = r\"D:\\owncloud\\Projekti_KI\\SIDE\\2022-06-10__CCRegulation\\INSRTR\\data\\pdbs\\wt\\af2_wt_structures\\Fluc_wt_relaxed_rank_1_model_2.pdb\"\n",
    "out_name = r'D:\\owncloud\\CCregulacija\\ML model\\Predictions_v1\\test.pymol'\n",
    "\n",
    "mapping ={\n",
    "    \"Predicted value (works)\":\"pworks\",\n",
    "    \"Predicted value (max_fold_decrease)\":\"pmax_fold\",\n",
    "    \"Structure name\":\"struct_name\",\n",
    "    \"Residue index 0\":\"resi_index0\"\n",
    "}\n",
    "\n",
    "df = pd.read_excel(model_file, sheet_name=sheet)\n",
    "df.rename(mapping, inplace=True, axis=1)\n",
    "df['resi_index1']=df['resi_index0']+1"
   ]
  },
  {
   "cell_type": "code",
   "execution_count": 30,
   "metadata": {},
   "outputs": [
    {
     "name": "stdout",
     "output_type": "stream",
     "text": [
      "run D:\\owncloud\\CCregulacija\\ML model\\Predictions_v1\\test.pymol\n"
     ]
    }
   ],
   "source": [
    "\n",
    "with open(out_name, 'w+') as f:\n",
    "    q = df.query(f'struct_name == \"{struct_name}\"')\n",
    "    print('delete all', file=f)\n",
    "    print(f'load {pdb_file}', file=f)\n",
    "    for row in q.itertuples():\n",
    "        print(f\"alter resi {row.resi_index1}, p.pworks={row.pworks};p.pmax_fold={row.pmax_fold};\", file=f)\n",
    "\n",
    "print(f'run {out_name}')"
   ]
  },
  {
   "cell_type": "code",
   "execution_count": 26,
   "metadata": {},
   "outputs": [
    {
     "ename": "SyntaxError",
     "evalue": "invalid syntax (3436297959.py, line 1)",
     "output_type": "error",
     "traceback": [
      "\u001b[1;36m  Input \u001b[1;32mIn [26]\u001b[1;36m\u001b[0m\n\u001b[1;33m    spectrum p.pworks, blue_red, minimum=0, maximum=1\u001b[0m\n\u001b[1;37m             ^\u001b[0m\n\u001b[1;31mSyntaxError\u001b[0m\u001b[1;31m:\u001b[0m invalid syntax\n"
     ]
    }
   ],
   "source": [
    "spectrum p.pworks, blue_red, minimum=0, maximum=1\n",
    "spectrum p.pmax_fold, blue_red, minimum=0"
   ]
  }
 ],
 "metadata": {
  "kernelspec": {
   "display_name": "Python 3.8.13 ('cocopod')",
   "language": "python",
   "name": "python3"
  },
  "language_info": {
   "codemirror_mode": {
    "name": "ipython",
    "version": 3
   },
   "file_extension": ".py",
   "mimetype": "text/x-python",
   "name": "python",
   "nbconvert_exporter": "python",
   "pygments_lexer": "ipython3",
   "version": "3.8.13"
  },
  "orig_nbformat": 4,
  "vscode": {
   "interpreter": {
    "hash": "67c0856e3a42f0ac5e208b6805f6abd324630b8af5329f70a0f23326d1f9d68d"
   }
  }
 },
 "nbformat": 4,
 "nbformat_minor": 2
}
