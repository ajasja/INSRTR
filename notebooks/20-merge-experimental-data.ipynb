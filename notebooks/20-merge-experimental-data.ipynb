{
 "cells": [
  {
   "cell_type": "code",
   "execution_count": 2,
   "metadata": {},
   "outputs": [
    {
     "name": "stdout",
     "output_type": "stream",
     "text": [
      "The autoreload extension is already loaded. To reload it, use:\n",
      "  %reload_ext autoreload\n",
      "d:\\owncloud\\Projekti_KI\\SIDE\\2022-06-10__CCRegulation\\INSRTR\\notebooks\n",
      "ajaomen\n"
     ]
    }
   ],
   "source": [
    "%load_ext autoreload\n",
    "%autoreload 2\n",
    "import os; print(os.getcwd())\n",
    "import socket; print(socket.gethostname())\n",
    "\n",
    "import sys\n",
    "sys.path.append(\"../\")\n",
    "import glob\n",
    "import re\n",
    "import insrtr\n",
    "import mdtraj as md \n",
    "import pandas as pd"
   ]
  },
  {
   "cell_type": "code",
   "execution_count": 9,
   "metadata": {},
   "outputs": [],
   "source": [
    "# Load individual PDBs\n",
    "\n",
    "data_files = glob.glob('../data/output/wt/af2/[!~]*.xlsx') # Exclude excel temporary files with !~\n",
    "dfs = []\n",
    "for afile in data_files:\n",
    "    df = pd.read_excel(afile, index_col=0)\n",
    "    dfs.append(df)\n",
    "\n",
    "calc_data = pd.concat(dfs, ignore_index=True)"
   ]
  },
  {
   "cell_type": "code",
   "execution_count": 10,
   "metadata": {},
   "outputs": [],
   "source": [
    "experimental_data = pd.read_excel('../data/INSRTR_mutants.xlsx')\n",
    "experimental_data['insert_index0']=experimental_data['insert_index1']-1\n",
    "experimental_data=experimental_data.set_index('Protein insert_index0'.split(), drop=False)\n",
    "experimental_data.index.rename(['struct_name', 'resi_index0'], inplace=True)\n",
    "calc_data=calc_data.set_index('struct_name resi_index0'.split(), drop=False)"
   ]
  },
  {
   "cell_type": "code",
   "execution_count": 11,
   "metadata": {},
   "outputs": [],
   "source": [
    "merged_SAR = pd.merge(calc_data, experimental_data, how='left', right_index=True,  left_index=True)\n",
    "merged_SAR.to_excel('../data/INSRTR_SAR.xlsx')"
   ]
  }
 ],
 "metadata": {
  "kernelspec": {
   "display_name": "Python 3.8.13 ('cocopod')",
   "language": "python",
   "name": "python3"
  },
  "language_info": {
   "codemirror_mode": {
    "name": "ipython",
    "version": 3
   },
   "file_extension": ".py",
   "mimetype": "text/x-python",
   "name": "python",
   "nbconvert_exporter": "python",
   "pygments_lexer": "ipython3",
   "version": "3.8.13 (default, Mar 28 2022, 06:59:08) [MSC v.1916 64 bit (AMD64)]"
  },
  "orig_nbformat": 4,
  "vscode": {
   "interpreter": {
    "hash": "67c0856e3a42f0ac5e208b6805f6abd324630b8af5329f70a0f23326d1f9d68d"
   }
  }
 },
 "nbformat": 4,
 "nbformat_minor": 2
}
