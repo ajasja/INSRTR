{
 "cells": [
  {
   "cell_type": "code",
   "execution_count": 1,
   "metadata": {},
   "outputs": [
    {
     "name": "stdout",
     "output_type": "stream",
     "text": [
      "d:\\owncloud\\Projekti_KI\\SIDE\\2022-06-10__CCRegulation\\INSRTR\\notebooks\n",
      "ajaomen\n"
     ]
    }
   ],
   "source": [
    "%load_ext autoreload\n",
    "%autoreload 2\n",
    "import os; print(os.getcwd())\n",
    "import socket; print(socket.gethostname())\n",
    "\n",
    "import sys\n",
    "sys.path.append(\"../\")\n",
    "\n",
    "import insrtr\n",
    "import mdtraj as md "
   ]
  },
  {
   "cell_type": "code",
   "execution_count": 10,
   "metadata": {},
   "outputs": [
    {
     "data": {
      "text/plain": [
       "array([16.486544, 13.003536, 18.312958], dtype=float32)"
      ]
     },
     "execution_count": 10,
     "metadata": {},
     "output_type": "execute_result"
    }
   ],
   "source": [
    "analyzer.get_distances(1, [20, 30, 50])"
   ]
  },
  {
   "cell_type": "code",
   "execution_count": 9,
   "metadata": {},
   "outputs": [],
   "source": [
    "analyzer = insrtr.LoopAnalyzer('../data/pdbs/BCMA.pdb', active_res_index1=[10, 20, 40])\n",
    "features = analyzer.analyze_structure()\n",
    "features.to_excel('test.xlsx')\n",
    "analyzer.feature_descriptions_table.to_excel('descriptions.xlsx')"
   ]
  },
  {
   "cell_type": "code",
   "execution_count": 21,
   "metadata": {},
   "outputs": [],
   "source": [
    "analyzer = insrtr.LoopAnalyzer('../data/pdbs/BCMA.pdb', )\n"
   ]
  },
  {
   "cell_type": "code",
   "execution_count": 18,
   "metadata": {},
   "outputs": [
    {
     "data": {
      "text/plain": [
       "\"[atom.index for atom in topology.atoms if ((atom.residue.index == 5) and (atom.name == 'CA'))\\n]\""
      ]
     },
     "execution_count": 18,
     "metadata": {},
     "output_type": "execute_result"
    }
   ],
   "source": [
    "analyzer.topology.select_expression(\"resid 5 and name CA\")"
   ]
  },
  {
   "cell_type": "code",
   "execution_count": 11,
   "metadata": {},
   "outputs": [
    {
     "data": {
      "text/plain": [
       "[21, 37, 54]"
      ]
     },
     "execution_count": 11,
     "metadata": {},
     "output_type": "execute_result"
    }
   ],
   "source": [
    "[atom.index for atom in analyzer.topology.atoms if ((atom.residue.index in (1,2,3)) and (atom.name == 'CA'))]"
   ]
  },
  {
   "cell_type": "code",
   "execution_count": 17,
   "metadata": {},
   "outputs": [
    {
     "name": "stdout",
     "output_type": "stream",
     "text": [
      "True\n"
     ]
    }
   ],
   "source": [
    "if not []:\n",
    "    print (True)"
   ]
  },
  {
   "cell_type": "code",
   "execution_count": 8,
   "metadata": {},
   "outputs": [],
   "source": []
  },
  {
   "cell_type": "code",
   "execution_count": 6,
   "metadata": {},
   "outputs": [
    {
     "ename": "NameError",
     "evalue": "name 'resi_table' is not defined",
     "output_type": "error",
     "traceback": [
      "\u001b[0;31m---------------------------------------------------------------------------\u001b[0m",
      "\u001b[0;31mNameError\u001b[0m                                 Traceback (most recent call last)",
      "\u001b[1;32m/Users/tadejsatler/Repositories/INSRTR/INSRTR/notebooks/00-develop-analysis.ipynb Cell 6\u001b[0m in \u001b[0;36m<cell line: 1>\u001b[0;34m()\u001b[0m\n\u001b[0;32m----> <a href='vscode-notebook-cell:/Users/tadejsatler/Repositories/INSRTR/INSRTR/notebooks/00-develop-analysis.ipynb#W5sZmlsZQ%3D%3D?line=0'>1</a>\u001b[0m resi_table\u001b[39m.\u001b[39mmerge(loop_table, on\u001b[39m=\u001b[39m\u001b[39m'\u001b[39m\u001b[39mloop_index0\u001b[39m\u001b[39m'\u001b[39m, how\u001b[39m=\u001b[39m\u001b[39m'\u001b[39m\u001b[39mleft\u001b[39m\u001b[39m'\u001b[39m)\n",
      "\u001b[0;31mNameError\u001b[0m: name 'resi_table' is not defined"
     ]
    }
   ],
   "source": [
    "resi_table.merge(loop_table, on='loop_index0', how='left')"
   ]
  },
  {
   "cell_type": "code",
   "execution_count": 7,
   "metadata": {},
   "outputs": [
    {
     "ename": "NameError",
     "evalue": "name 'traj' is not defined",
     "output_type": "error",
     "traceback": [
      "\u001b[0;31m---------------------------------------------------------------------------\u001b[0m",
      "\u001b[0;31mNameError\u001b[0m                                 Traceback (most recent call last)",
      "\u001b[1;32m/Users/tadejsatler/Repositories/INSRTR/INSRTR/notebooks/00-develop-analysis.ipynb Cell 7\u001b[0m in \u001b[0;36m<cell line: 1>\u001b[0;34m()\u001b[0m\n\u001b[0;32m----> <a href='vscode-notebook-cell:/Users/tadejsatler/Repositories/INSRTR/INSRTR/notebooks/00-develop-analysis.ipynb#W6sZmlsZQ%3D%3D?line=0'>1</a>\u001b[0m dssp \u001b[39m=\u001b[39m md\u001b[39m.\u001b[39mcompute_dssp(traj, simplified\u001b[39m=\u001b[39m\u001b[39mTrue\u001b[39;00m)[\u001b[39m0\u001b[39m]\n\u001b[1;32m      <a href='vscode-notebook-cell:/Users/tadejsatler/Repositories/INSRTR/INSRTR/notebooks/00-develop-analysis.ipynb#W6sZmlsZQ%3D%3D?line=1'>2</a>\u001b[0m loops \u001b[39m=\u001b[39m insrtr\u001b[39m.\u001b[39mget_loops_from_annotation(dssp, loop_char\u001b[39m=\u001b[39m\u001b[39m'\u001b[39m\u001b[39mC\u001b[39m\u001b[39m'\u001b[39m, skip_ends\u001b[39m=\u001b[39m\u001b[39mTrue\u001b[39;00m)\n\u001b[1;32m      <a href='vscode-notebook-cell:/Users/tadejsatler/Repositories/INSRTR/INSRTR/notebooks/00-develop-analysis.ipynb#W6sZmlsZQ%3D%3D?line=3'>4</a>\u001b[0m loops \u001b[39m=\u001b[39m insrtr\u001b[39m.\u001b[39mloops_to_0_based(loops)\n",
      "\u001b[0;31mNameError\u001b[0m: name 'traj' is not defined"
     ]
    }
   ],
   "source": [
    "dssp = md.compute_dssp(traj, simplified=True)[0]\n",
    "loops = insrtr.get_loops_from_annotation(dssp, loop_char='C', skip_ends=True)\n",
    "\n",
    "loops = insrtr.loops_to_0_based(loops)\n",
    "ids = top.select(f\"resid {loops[0][0]} to {loops[0][-1]}\")\n",
    "print(\"+\".join(str(aid) for aid in ids))\n",
    "sasa = md.shrake_rupley(traj)\n",
    "loop_sasa\n"
   ]
  },
  {
   "cell_type": "code",
   "execution_count": 8,
   "metadata": {},
   "outputs": [],
   "source": [
    "def resname_3to1(resname3: list) -> str:\n",
    "    \"\"\"Takes an array of 3 letter names and returns one letter names\"\"\"\n",
    "    result = [resname_3to1_dict[resname] for resname in resname3]\n",
    "    return result\n",
    "    "
   ]
  },
  {
   "cell_type": "code",
   "execution_count": 9,
   "metadata": {},
   "outputs": [
    {
     "data": {
      "text/plain": [
       "array([[0.23238757, 0.13711613, 0.0327066 , ..., 0.24554269, 0.12579462,\n",
       "        0.07812722]], dtype=float32)"
      ]
     },
     "execution_count": 9,
     "metadata": {},
     "output_type": "execute_result"
    }
   ],
   "source": [
    "topology.select('')"
   ]
  },
  {
   "cell_type": "code",
   "execution_count": 8,
   "metadata": {},
   "outputs": [],
   "source": []
  }
 ],
 "metadata": {
  "kernelspec": {
   "display_name": "Python 3.8.13 ('cocopod')",
   "language": "python",
   "name": "python3"
  },
  "language_info": {
   "codemirror_mode": {
    "name": "ipython",
    "version": 3
   },
   "file_extension": ".py",
   "mimetype": "text/x-python",
   "name": "python",
   "nbconvert_exporter": "python",
   "pygments_lexer": "ipython3",
   "version": "3.8.13"
  },
  "orig_nbformat": 4,
  "vscode": {
   "interpreter": {
    "hash": "67c0856e3a42f0ac5e208b6805f6abd324630b8af5329f70a0f23326d1f9d68d"
   }
  }
 },
 "nbformat": 4,
 "nbformat_minor": 2
}
