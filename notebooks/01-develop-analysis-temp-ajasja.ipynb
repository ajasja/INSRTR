{
 "cells": [
  {
   "cell_type": "code",
   "execution_count": 1,
   "metadata": {},
   "outputs": [
    {
     "name": "stdout",
     "output_type": "stream",
     "text": [
      "d:\\owncloud\\Projekti_KI\\SIDE\\2022-06-10__CCRegulation\\INSRTR\\notebooks\n",
      "ajaomen\n"
     ]
    }
   ],
   "source": [
    "%load_ext autoreload\n",
    "%autoreload 2\n",
    "import os; print(os.getcwd())\n",
    "import socket; print(socket.gethostname())\n",
    "\n",
    "import sys\n",
    "sys.path.append(\"../\")\n",
    "\n",
    "import insrtr\n",
    "import mdtraj as md "
   ]
  },
  {
   "cell_type": "code",
   "execution_count": 2,
   "metadata": {},
   "outputs": [],
   "source": [
    "analyzer = insrtr.LoopAnalyzer('../data/pdbs/BCMA.pdb')\n",
    "features = analyzer.analyze_structure()\n",
    "features.to_excel('test.xlsx')\n",
    "analyzer.feature_descriptions_table.to_excel('descriptions.xlsx')"
   ]
  },
  {
   "cell_type": "code",
   "execution_count": null,
   "metadata": {},
   "outputs": [],
   "source": []
  },
  {
   "cell_type": "code",
   "execution_count": 10,
   "metadata": {},
   "outputs": [],
   "source": []
  },
  {
   "cell_type": "code",
   "execution_count": 4,
   "metadata": {},
   "outputs": [
    {
     "data": {
      "text/html": [
       "<div>\n",
       "<style scoped>\n",
       "    .dataframe tbody tr th:only-of-type {\n",
       "        vertical-align: middle;\n",
       "    }\n",
       "\n",
       "    .dataframe tbody tr th {\n",
       "        vertical-align: top;\n",
       "    }\n",
       "\n",
       "    .dataframe thead th {\n",
       "        text-align: right;\n",
       "    }\n",
       "</style>\n",
       "<table border=\"1\" class=\"dataframe\">\n",
       "  <thead>\n",
       "    <tr style=\"text-align: right;\">\n",
       "      <th></th>\n",
       "      <th>loop_index0</th>\n",
       "      <th>loop_length_AA</th>\n",
       "      <th>loop_start_end_distance_A</th>\n",
       "      <th>loop_radius_gyration_A</th>\n",
       "      <th>loop_sasa_A</th>\n",
       "      <th>loop_sasa_A_per_res</th>\n",
       "      <th>loop_isolation_SASA_A</th>\n",
       "      <th>loop_burial_percent</th>\n",
       "      <th>loop_percent_of_total_surface</th>\n",
       "      <th>loop_seq</th>\n",
       "      <th>...</th>\n",
       "      <th>resi_type</th>\n",
       "      <th>resi_dssp</th>\n",
       "      <th>prev_resi_type</th>\n",
       "      <th>prev_resi_dssp</th>\n",
       "      <th>next_resi_type</th>\n",
       "      <th>next_resi_dssp</th>\n",
       "      <th>resi_sasa_A</th>\n",
       "      <th>resi_isolation_SASA_A</th>\n",
       "      <th>resi_burial_percent</th>\n",
       "      <th>resi_percent_of_total_surface</th>\n",
       "    </tr>\n",
       "  </thead>\n",
       "  <tbody>\n",
       "    <tr>\n",
       "      <th>description</th>\n",
       "      <td>The zero based index of the loop.</td>\n",
       "      <td>The length of the loop.</td>\n",
       "      <td>Distance between the CA atom of the first loop...</td>\n",
       "      <td>Radius of Gyration of the loop residues.</td>\n",
       "      <td>Surface accessible area of loop in A**2</td>\n",
       "      <td>Surface accessible area divided by number of r...</td>\n",
       "      <td>Surface accessible area of loop without the re...</td>\n",
       "      <td>1-SASA/SASA_isolation, i.e. the percent of the...</td>\n",
       "      <td>SASA/SASA_of_whole_protein, i.e. how big is th...</td>\n",
       "      <td>Aminoacid sequence of the loop in one letter c...</td>\n",
       "      <td>...</td>\n",
       "      <td>Residue type</td>\n",
       "      <td>Residue secondary structure</td>\n",
       "      <td>Type of previous residue</td>\n",
       "      <td>Secondary structure of previous residue</td>\n",
       "      <td>Type of next residue</td>\n",
       "      <td>Secondary structure of next residue</td>\n",
       "      <td>Surface accessible area of residue in A**2 in ...</td>\n",
       "      <td>Surface accessible area of residue in A**2 in ...</td>\n",
       "      <td>1-SASA_residue/SASA_residue_isolation, i.e. th...</td>\n",
       "      <td>SAS_resi/SASA_of_whole_protein, i.e. how big i...</td>\n",
       "    </tr>\n",
       "  </tbody>\n",
       "</table>\n",
       "<p>1 rows × 28 columns</p>\n",
       "</div>"
      ],
      "text/plain": [
       "                                   loop_index0           loop_length_AA  \\\n",
       "description  The zero based index of the loop.  The length of the loop.   \n",
       "\n",
       "                                     loop_start_end_distance_A  \\\n",
       "description  Distance between the CA atom of the first loop...   \n",
       "\n",
       "                               loop_radius_gyration_A  \\\n",
       "description  Radius of Gyration of the loop residues.   \n",
       "\n",
       "                                         loop_sasa_A  \\\n",
       "description  Surface accessible area of loop in A**2   \n",
       "\n",
       "                                           loop_sasa_A_per_res  \\\n",
       "description  Surface accessible area divided by number of r...   \n",
       "\n",
       "                                         loop_isolation_SASA_A  \\\n",
       "description  Surface accessible area of loop without the re...   \n",
       "\n",
       "                                           loop_burial_percent  \\\n",
       "description  1-SASA/SASA_isolation, i.e. the percent of the...   \n",
       "\n",
       "                                 loop_percent_of_total_surface  \\\n",
       "description  SASA/SASA_of_whole_protein, i.e. how big is th...   \n",
       "\n",
       "                                                      loop_seq  ...  \\\n",
       "description  Aminoacid sequence of the loop in one letter c...  ...   \n",
       "\n",
       "                resi_type                    resi_dssp  \\\n",
       "description  Residue type  Residue secondary structure   \n",
       "\n",
       "                       prev_resi_type  \\\n",
       "description  Type of previous residue   \n",
       "\n",
       "                                      prev_resi_dssp        next_resi_type  \\\n",
       "description  Secondary structure of previous residue  Type of next residue   \n",
       "\n",
       "                                  next_resi_dssp  \\\n",
       "description  Secondary structure of next residue   \n",
       "\n",
       "                                                   resi_sasa_A  \\\n",
       "description  Surface accessible area of residue in A**2 in ...   \n",
       "\n",
       "                                         resi_isolation_SASA_A  \\\n",
       "description  Surface accessible area of residue in A**2 in ...   \n",
       "\n",
       "                                           resi_burial_percent  \\\n",
       "description  1-SASA_residue/SASA_residue_isolation, i.e. th...   \n",
       "\n",
       "                                 resi_percent_of_total_surface  \n",
       "description  SAS_resi/SASA_of_whole_protein, i.e. how big i...  \n",
       "\n",
       "[1 rows x 28 columns]"
      ]
     },
     "execution_count": 4,
     "metadata": {},
     "output_type": "execute_result"
    }
   ],
   "source": [
    "analyzer.feature_descriptions_table.T"
   ]
  },
  {
   "cell_type": "code",
   "execution_count": 5,
   "metadata": {},
   "outputs": [],
   "source": [
    "import pandas as pd\n"
   ]
  },
  {
   "cell_type": "code",
   "execution_count": 8,
   "metadata": {},
   "outputs": [],
   "source": []
  },
  {
   "cell_type": "code",
   "execution_count": 6,
   "metadata": {},
   "outputs": [
    {
     "ename": "NameError",
     "evalue": "name 'resi_table' is not defined",
     "output_type": "error",
     "traceback": [
      "\u001b[0;31m---------------------------------------------------------------------------\u001b[0m",
      "\u001b[0;31mNameError\u001b[0m                                 Traceback (most recent call last)",
      "\u001b[1;32m/Users/tadejsatler/Repositories/INSRTR/INSRTR/notebooks/00-develop-analysis.ipynb Cell 6\u001b[0m in \u001b[0;36m<cell line: 1>\u001b[0;34m()\u001b[0m\n\u001b[0;32m----> <a href='vscode-notebook-cell:/Users/tadejsatler/Repositories/INSRTR/INSRTR/notebooks/00-develop-analysis.ipynb#W5sZmlsZQ%3D%3D?line=0'>1</a>\u001b[0m resi_table\u001b[39m.\u001b[39mmerge(loop_table, on\u001b[39m=\u001b[39m\u001b[39m'\u001b[39m\u001b[39mloop_index0\u001b[39m\u001b[39m'\u001b[39m, how\u001b[39m=\u001b[39m\u001b[39m'\u001b[39m\u001b[39mleft\u001b[39m\u001b[39m'\u001b[39m)\n",
      "\u001b[0;31mNameError\u001b[0m: name 'resi_table' is not defined"
     ]
    }
   ],
   "source": [
    "resi_table.merge(loop_table, on='loop_index0', how='left')"
   ]
  },
  {
   "cell_type": "code",
   "execution_count": 7,
   "metadata": {},
   "outputs": [
    {
     "ename": "NameError",
     "evalue": "name 'traj' is not defined",
     "output_type": "error",
     "traceback": [
      "\u001b[0;31m---------------------------------------------------------------------------\u001b[0m",
      "\u001b[0;31mNameError\u001b[0m                                 Traceback (most recent call last)",
      "\u001b[1;32m/Users/tadejsatler/Repositories/INSRTR/INSRTR/notebooks/00-develop-analysis.ipynb Cell 7\u001b[0m in \u001b[0;36m<cell line: 1>\u001b[0;34m()\u001b[0m\n\u001b[0;32m----> <a href='vscode-notebook-cell:/Users/tadejsatler/Repositories/INSRTR/INSRTR/notebooks/00-develop-analysis.ipynb#W6sZmlsZQ%3D%3D?line=0'>1</a>\u001b[0m dssp \u001b[39m=\u001b[39m md\u001b[39m.\u001b[39mcompute_dssp(traj, simplified\u001b[39m=\u001b[39m\u001b[39mTrue\u001b[39;00m)[\u001b[39m0\u001b[39m]\n\u001b[1;32m      <a href='vscode-notebook-cell:/Users/tadejsatler/Repositories/INSRTR/INSRTR/notebooks/00-develop-analysis.ipynb#W6sZmlsZQ%3D%3D?line=1'>2</a>\u001b[0m loops \u001b[39m=\u001b[39m insrtr\u001b[39m.\u001b[39mget_loops_from_annotation(dssp, loop_char\u001b[39m=\u001b[39m\u001b[39m'\u001b[39m\u001b[39mC\u001b[39m\u001b[39m'\u001b[39m, skip_ends\u001b[39m=\u001b[39m\u001b[39mTrue\u001b[39;00m)\n\u001b[1;32m      <a href='vscode-notebook-cell:/Users/tadejsatler/Repositories/INSRTR/INSRTR/notebooks/00-develop-analysis.ipynb#W6sZmlsZQ%3D%3D?line=3'>4</a>\u001b[0m loops \u001b[39m=\u001b[39m insrtr\u001b[39m.\u001b[39mloops_to_0_based(loops)\n",
      "\u001b[0;31mNameError\u001b[0m: name 'traj' is not defined"
     ]
    }
   ],
   "source": [
    "dssp = md.compute_dssp(traj, simplified=True)[0]\n",
    "loops = insrtr.get_loops_from_annotation(dssp, loop_char='C', skip_ends=True)\n",
    "\n",
    "loops = insrtr.loops_to_0_based(loops)\n",
    "ids = top.select(f\"resid {loops[0][0]} to {loops[0][-1]}\")\n",
    "print(\"+\".join(str(aid) for aid in ids))\n",
    "sasa = md.shrake_rupley(traj)\n",
    "loop_sasa\n"
   ]
  },
  {
   "cell_type": "code",
   "execution_count": 8,
   "metadata": {},
   "outputs": [],
   "source": [
    "def resname_3to1(resname3: list) -> str:\n",
    "    \"\"\"Takes an array of 3 letter names and returns one letter names\"\"\"\n",
    "    result = [resname_3to1_dict[resname] for resname in resname3]\n",
    "    return result\n",
    "    "
   ]
  },
  {
   "cell_type": "code",
   "execution_count": 9,
   "metadata": {},
   "outputs": [
    {
     "data": {
      "text/plain": [
       "array([[0.23238757, 0.13711613, 0.0327066 , ..., 0.24554269, 0.12579462,\n",
       "        0.07812722]], dtype=float32)"
      ]
     },
     "execution_count": 9,
     "metadata": {},
     "output_type": "execute_result"
    }
   ],
   "source": [
    "topology.select('')"
   ]
  },
  {
   "cell_type": "code",
   "execution_count": 8,
   "metadata": {},
   "outputs": [],
   "source": []
  }
 ],
 "metadata": {
  "kernelspec": {
   "display_name": "Python 3.8.13 ('cocopod')",
   "language": "python",
   "name": "python3"
  },
  "language_info": {
   "codemirror_mode": {
    "name": "ipython",
    "version": 3
   },
   "file_extension": ".py",
   "mimetype": "text/x-python",
   "name": "python",
   "nbconvert_exporter": "python",
   "pygments_lexer": "ipython3",
   "version": "3.8.13"
  },
  "orig_nbformat": 4,
  "vscode": {
   "interpreter": {
    "hash": "67c0856e3a42f0ac5e208b6805f6abd324630b8af5329f70a0f23326d1f9d68d"
   }
  }
 },
 "nbformat": 4,
 "nbformat_minor": 2
}
